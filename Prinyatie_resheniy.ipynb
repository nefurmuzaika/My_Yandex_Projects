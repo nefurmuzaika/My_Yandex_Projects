{
 "cells": [
  {
   "cell_type": "markdown",
   "metadata": {},
   "source": [
    "Данное исследование проводится для интернет-магазина, где необходимо проанализировать и приоритезировать гипотезы, а также провести A/B тестирование, которое позволит в результате увеличить выручку компании.\n",
    "\n",
    "Основные задачи данного исследования:\n",
    "1. Приоритизировать гипотезы\n",
    "2. Запустить A/B-тест\n",
    "3. Проанализировать результаты A/B-тестирования"
   ]
  },
  {
   "cell_type": "markdown",
   "metadata": {},
   "source": [
    "# Первый блок: приоритизация гипотез"
   ]
  },
  {
   "cell_type": "markdown",
   "metadata": {},
   "source": [
    "В первой части исследования нам необходимо приоритизировать гипотезы для дальнейшего увелечения выручки компани."
   ]
  },
  {
   "cell_type": "markdown",
   "metadata": {},
   "source": [
    "Импортируем необходимые библиотеки для работы и открываем наши данные:"
   ]
  },
  {
   "cell_type": "code",
   "execution_count": 1,
   "metadata": {},
   "outputs": [],
   "source": [
    "import pandas as pd\n",
    "import datetime as dt\n",
    "import numpy as np\n",
    "import scipy.stats as stats\n",
    "import matplotlib.pyplot as plt"
   ]
  },
  {
   "cell_type": "code",
   "execution_count": 2,
   "metadata": {},
   "outputs": [],
   "source": [
    "data1 = pd.read_csv('/datasets/hypothesis.csv')"
   ]
  },
  {
   "cell_type": "code",
   "execution_count": 3,
   "metadata": {},
   "outputs": [
    {
     "data": {
      "text/html": [
       "<div>\n",
       "<style scoped>\n",
       "    .dataframe tbody tr th:only-of-type {\n",
       "        vertical-align: middle;\n",
       "    }\n",
       "\n",
       "    .dataframe tbody tr th {\n",
       "        vertical-align: top;\n",
       "    }\n",
       "\n",
       "    .dataframe thead th {\n",
       "        text-align: right;\n",
       "    }\n",
       "</style>\n",
       "<table border=\"1\" class=\"dataframe\">\n",
       "  <thead>\n",
       "    <tr style=\"text-align: right;\">\n",
       "      <th></th>\n",
       "      <th>Hypothesis</th>\n",
       "      <th>Reach</th>\n",
       "      <th>Impact</th>\n",
       "      <th>Confidence</th>\n",
       "      <th>Efforts</th>\n",
       "    </tr>\n",
       "  </thead>\n",
       "  <tbody>\n",
       "    <tr>\n",
       "      <th>0</th>\n",
       "      <td>Добавить два новых канала привлечения трафика,...</td>\n",
       "      <td>3</td>\n",
       "      <td>10</td>\n",
       "      <td>8</td>\n",
       "      <td>6</td>\n",
       "    </tr>\n",
       "    <tr>\n",
       "      <th>1</th>\n",
       "      <td>Запустить собственную службу доставки, что сок...</td>\n",
       "      <td>2</td>\n",
       "      <td>5</td>\n",
       "      <td>4</td>\n",
       "      <td>10</td>\n",
       "    </tr>\n",
       "    <tr>\n",
       "      <th>2</th>\n",
       "      <td>Добавить блоки рекомендаций товаров на сайт ин...</td>\n",
       "      <td>8</td>\n",
       "      <td>3</td>\n",
       "      <td>7</td>\n",
       "      <td>3</td>\n",
       "    </tr>\n",
       "    <tr>\n",
       "      <th>3</th>\n",
       "      <td>Изменить структура категорий, что увеличит кон...</td>\n",
       "      <td>8</td>\n",
       "      <td>3</td>\n",
       "      <td>3</td>\n",
       "      <td>8</td>\n",
       "    </tr>\n",
       "    <tr>\n",
       "      <th>4</th>\n",
       "      <td>Изменить цвет фона главной страницы, чтобы уве...</td>\n",
       "      <td>3</td>\n",
       "      <td>1</td>\n",
       "      <td>1</td>\n",
       "      <td>1</td>\n",
       "    </tr>\n",
       "    <tr>\n",
       "      <th>5</th>\n",
       "      <td>Добавить страницу отзывов клиентов о магазине,...</td>\n",
       "      <td>3</td>\n",
       "      <td>2</td>\n",
       "      <td>2</td>\n",
       "      <td>3</td>\n",
       "    </tr>\n",
       "    <tr>\n",
       "      <th>6</th>\n",
       "      <td>Показать на главной странице баннеры с актуаль...</td>\n",
       "      <td>5</td>\n",
       "      <td>3</td>\n",
       "      <td>8</td>\n",
       "      <td>3</td>\n",
       "    </tr>\n",
       "    <tr>\n",
       "      <th>7</th>\n",
       "      <td>Добавить форму подписки на все основные страни...</td>\n",
       "      <td>10</td>\n",
       "      <td>7</td>\n",
       "      <td>8</td>\n",
       "      <td>5</td>\n",
       "    </tr>\n",
       "    <tr>\n",
       "      <th>8</th>\n",
       "      <td>Запустить акцию, дающую скидку на товар в день...</td>\n",
       "      <td>1</td>\n",
       "      <td>9</td>\n",
       "      <td>9</td>\n",
       "      <td>5</td>\n",
       "    </tr>\n",
       "  </tbody>\n",
       "</table>\n",
       "</div>"
      ],
      "text/plain": [
       "                                          Hypothesis  Reach  Impact  \\\n",
       "0  Добавить два новых канала привлечения трафика,...      3      10   \n",
       "1  Запустить собственную службу доставки, что сок...      2       5   \n",
       "2  Добавить блоки рекомендаций товаров на сайт ин...      8       3   \n",
       "3  Изменить структура категорий, что увеличит кон...      8       3   \n",
       "4  Изменить цвет фона главной страницы, чтобы уве...      3       1   \n",
       "5  Добавить страницу отзывов клиентов о магазине,...      3       2   \n",
       "6  Показать на главной странице баннеры с актуаль...      5       3   \n",
       "7  Добавить форму подписки на все основные страни...     10       7   \n",
       "8  Запустить акцию, дающую скидку на товар в день...      1       9   \n",
       "\n",
       "   Confidence  Efforts  \n",
       "0           8        6  \n",
       "1           4       10  \n",
       "2           7        3  \n",
       "3           3        8  \n",
       "4           1        1  \n",
       "5           2        3  \n",
       "6           8        3  \n",
       "7           8        5  \n",
       "8           9        5  "
      ]
     },
     "execution_count": 3,
     "metadata": {},
     "output_type": "execute_result"
    }
   ],
   "source": [
    "data1.head(10)"
   ]
  },
  {
   "cell_type": "markdown",
   "metadata": {},
   "source": [
    "Применим фреймворк ICE для приоритизации гипотез и отсортируем их по убыванию приоритета."
   ]
  },
  {
   "cell_type": "code",
   "execution_count": 4,
   "metadata": {},
   "outputs": [
    {
     "data": {
      "text/html": [
       "<div>\n",
       "<style scoped>\n",
       "    .dataframe tbody tr th:only-of-type {\n",
       "        vertical-align: middle;\n",
       "    }\n",
       "\n",
       "    .dataframe tbody tr th {\n",
       "        vertical-align: top;\n",
       "    }\n",
       "\n",
       "    .dataframe thead th {\n",
       "        text-align: right;\n",
       "    }\n",
       "</style>\n",
       "<table border=\"1\" class=\"dataframe\">\n",
       "  <thead>\n",
       "    <tr style=\"text-align: right;\">\n",
       "      <th></th>\n",
       "      <th>Hypothesis</th>\n",
       "      <th>ICE</th>\n",
       "    </tr>\n",
       "  </thead>\n",
       "  <tbody>\n",
       "    <tr>\n",
       "      <th>8</th>\n",
       "      <td>Запустить акцию, дающую скидку на товар в день...</td>\n",
       "      <td>16.200000</td>\n",
       "    </tr>\n",
       "    <tr>\n",
       "      <th>0</th>\n",
       "      <td>Добавить два новых канала привлечения трафика,...</td>\n",
       "      <td>13.333333</td>\n",
       "    </tr>\n",
       "    <tr>\n",
       "      <th>7</th>\n",
       "      <td>Добавить форму подписки на все основные страни...</td>\n",
       "      <td>11.200000</td>\n",
       "    </tr>\n",
       "    <tr>\n",
       "      <th>6</th>\n",
       "      <td>Показать на главной странице баннеры с актуаль...</td>\n",
       "      <td>8.000000</td>\n",
       "    </tr>\n",
       "    <tr>\n",
       "      <th>2</th>\n",
       "      <td>Добавить блоки рекомендаций товаров на сайт ин...</td>\n",
       "      <td>7.000000</td>\n",
       "    </tr>\n",
       "    <tr>\n",
       "      <th>1</th>\n",
       "      <td>Запустить собственную службу доставки, что сок...</td>\n",
       "      <td>2.000000</td>\n",
       "    </tr>\n",
       "    <tr>\n",
       "      <th>5</th>\n",
       "      <td>Добавить страницу отзывов клиентов о магазине,...</td>\n",
       "      <td>1.333333</td>\n",
       "    </tr>\n",
       "    <tr>\n",
       "      <th>3</th>\n",
       "      <td>Изменить структура категорий, что увеличит кон...</td>\n",
       "      <td>1.125000</td>\n",
       "    </tr>\n",
       "    <tr>\n",
       "      <th>4</th>\n",
       "      <td>Изменить цвет фона главной страницы, чтобы уве...</td>\n",
       "      <td>1.000000</td>\n",
       "    </tr>\n",
       "  </tbody>\n",
       "</table>\n",
       "</div>"
      ],
      "text/plain": [
       "                                          Hypothesis        ICE\n",
       "8  Запустить акцию, дающую скидку на товар в день...  16.200000\n",
       "0  Добавить два новых канала привлечения трафика,...  13.333333\n",
       "7  Добавить форму подписки на все основные страни...  11.200000\n",
       "6  Показать на главной странице баннеры с актуаль...   8.000000\n",
       "2  Добавить блоки рекомендаций товаров на сайт ин...   7.000000\n",
       "1  Запустить собственную службу доставки, что сок...   2.000000\n",
       "5  Добавить страницу отзывов клиентов о магазине,...   1.333333\n",
       "3  Изменить структура категорий, что увеличит кон...   1.125000\n",
       "4  Изменить цвет фона главной страницы, чтобы уве...   1.000000"
      ]
     },
     "execution_count": 4,
     "metadata": {},
     "output_type": "execute_result"
    }
   ],
   "source": [
    "data1['ICE'] = data1['Impact'] * data1['Confidence'] / data1['Efforts']\n",
    "data1[[\"Hypothesis\", \"ICE\"]].sort_values(by='ICE', ascending=False)"
   ]
  },
  {
   "cell_type": "markdown",
   "metadata": {},
   "source": [
    "При использовании этого метода наиболее приоритетными гипотезами будут являться 8, 0 и 7."
   ]
  },
  {
   "cell_type": "markdown",
   "metadata": {},
   "source": [
    "Примените фреймворк RICE для приоритизации гипотез. Отсортируйте их по убыванию приоритета."
   ]
  },
  {
   "cell_type": "code",
   "execution_count": 5,
   "metadata": {},
   "outputs": [
    {
     "data": {
      "text/html": [
       "<div>\n",
       "<style scoped>\n",
       "    .dataframe tbody tr th:only-of-type {\n",
       "        vertical-align: middle;\n",
       "    }\n",
       "\n",
       "    .dataframe tbody tr th {\n",
       "        vertical-align: top;\n",
       "    }\n",
       "\n",
       "    .dataframe thead th {\n",
       "        text-align: right;\n",
       "    }\n",
       "</style>\n",
       "<table border=\"1\" class=\"dataframe\">\n",
       "  <thead>\n",
       "    <tr style=\"text-align: right;\">\n",
       "      <th></th>\n",
       "      <th>Hypothesis</th>\n",
       "      <th>RICE</th>\n",
       "    </tr>\n",
       "  </thead>\n",
       "  <tbody>\n",
       "    <tr>\n",
       "      <th>7</th>\n",
       "      <td>Добавить форму подписки на все основные страни...</td>\n",
       "      <td>112.0</td>\n",
       "    </tr>\n",
       "    <tr>\n",
       "      <th>2</th>\n",
       "      <td>Добавить блоки рекомендаций товаров на сайт ин...</td>\n",
       "      <td>56.0</td>\n",
       "    </tr>\n",
       "    <tr>\n",
       "      <th>0</th>\n",
       "      <td>Добавить два новых канала привлечения трафика,...</td>\n",
       "      <td>40.0</td>\n",
       "    </tr>\n",
       "    <tr>\n",
       "      <th>6</th>\n",
       "      <td>Показать на главной странице баннеры с актуаль...</td>\n",
       "      <td>40.0</td>\n",
       "    </tr>\n",
       "    <tr>\n",
       "      <th>8</th>\n",
       "      <td>Запустить акцию, дающую скидку на товар в день...</td>\n",
       "      <td>16.2</td>\n",
       "    </tr>\n",
       "    <tr>\n",
       "      <th>3</th>\n",
       "      <td>Изменить структура категорий, что увеличит кон...</td>\n",
       "      <td>9.0</td>\n",
       "    </tr>\n",
       "    <tr>\n",
       "      <th>1</th>\n",
       "      <td>Запустить собственную службу доставки, что сок...</td>\n",
       "      <td>4.0</td>\n",
       "    </tr>\n",
       "    <tr>\n",
       "      <th>5</th>\n",
       "      <td>Добавить страницу отзывов клиентов о магазине,...</td>\n",
       "      <td>4.0</td>\n",
       "    </tr>\n",
       "    <tr>\n",
       "      <th>4</th>\n",
       "      <td>Изменить цвет фона главной страницы, чтобы уве...</td>\n",
       "      <td>3.0</td>\n",
       "    </tr>\n",
       "  </tbody>\n",
       "</table>\n",
       "</div>"
      ],
      "text/plain": [
       "                                          Hypothesis   RICE\n",
       "7  Добавить форму подписки на все основные страни...  112.0\n",
       "2  Добавить блоки рекомендаций товаров на сайт ин...   56.0\n",
       "0  Добавить два новых канала привлечения трафика,...   40.0\n",
       "6  Показать на главной странице баннеры с актуаль...   40.0\n",
       "8  Запустить акцию, дающую скидку на товар в день...   16.2\n",
       "3  Изменить структура категорий, что увеличит кон...    9.0\n",
       "1  Запустить собственную службу доставки, что сок...    4.0\n",
       "5  Добавить страницу отзывов клиентов о магазине,...    4.0\n",
       "4  Изменить цвет фона главной страницы, чтобы уве...    3.0"
      ]
     },
     "execution_count": 5,
     "metadata": {},
     "output_type": "execute_result"
    }
   ],
   "source": [
    "data1['RICE'] = data1['Reach'] * data1['Impact'] * data1['Confidence'] / data1['Efforts']\n",
    "data1[[\"Hypothesis\", \"RICE\"]].sort_values(by='RICE', ascending=False)"
   ]
  },
  {
   "cell_type": "markdown",
   "metadata": {},
   "source": [
    "При использовании метода RICE наиболее приоритетными гипотезами будут являться 7, 2, 0."
   ]
  },
  {
   "cell_type": "markdown",
   "metadata": {},
   "source": [
    "Укажите, как изменилась приоритизация гипотез при применении RICE вместо ICE. Объясните, почему так произошло."
   ]
  },
  {
   "cell_type": "markdown",
   "metadata": {},
   "source": [
    "Оба метода показали приоритетность гипотез 7, 0 и 6. Что касается гипотез 8 и 2, в зависимости от используемого метода приоритизации, они оказались на более низком месте. Дело в том, что во время подсчета RICE в отличие от ICE, участвует такой параметр, как Reach, то есть  скольких пользователей затронет изменение. При таком раскладе гипотеза 2 затрагивает большее количество людей, что позволило ей стать более приоритетной при использовании метода"
   ]
  },
  {
   "cell_type": "markdown",
   "metadata": {},
   "source": [
    "# Второй блок: A-B тестирование"
   ]
  },
  {
   "cell_type": "markdown",
   "metadata": {},
   "source": [
    "Во второй части исследования необходимо проанализировать результаты A-B тестирования по предоставленным нам данным"
   ]
  },
  {
   "cell_type": "markdown",
   "metadata": {},
   "source": [
    "Откроем датасеты для второго блока, получаем информацию о датасетах, меняем названия заголовков, приводим столбцы к нужному типу:"
   ]
  },
  {
   "cell_type": "code",
   "execution_count": 6,
   "metadata": {},
   "outputs": [],
   "source": [
    "visitors = pd.read_csv('/datasets/visitors.csv')"
   ]
  },
  {
   "cell_type": "code",
   "execution_count": 7,
   "metadata": {},
   "outputs": [
    {
     "name": "stdout",
     "output_type": "stream",
     "text": [
      "<class 'pandas.core.frame.DataFrame'>\n",
      "RangeIndex: 62 entries, 0 to 61\n",
      "Data columns (total 3 columns):\n",
      " #   Column    Non-Null Count  Dtype \n",
      "---  ------    --------------  ----- \n",
      " 0   date      62 non-null     object\n",
      " 1   group     62 non-null     object\n",
      " 2   visitors  62 non-null     int64 \n",
      "dtypes: int64(1), object(2)\n",
      "memory usage: 1.6+ KB\n"
     ]
    }
   ],
   "source": [
    "visitors.info()"
   ]
  },
  {
   "cell_type": "code",
   "execution_count": 8,
   "metadata": {},
   "outputs": [],
   "source": [
    "visitors['date'] = pd.to_datetime(visitors['date'])"
   ]
  },
  {
   "cell_type": "code",
   "execution_count": 9,
   "metadata": {},
   "outputs": [],
   "source": [
    "orders = pd.read_csv('/datasets/orders.csv')"
   ]
  },
  {
   "cell_type": "code",
   "execution_count": 10,
   "metadata": {},
   "outputs": [
    {
     "name": "stdout",
     "output_type": "stream",
     "text": [
      "<class 'pandas.core.frame.DataFrame'>\n",
      "RangeIndex: 1197 entries, 0 to 1196\n",
      "Data columns (total 5 columns):\n",
      " #   Column         Non-Null Count  Dtype \n",
      "---  ------         --------------  ----- \n",
      " 0   transactionId  1197 non-null   int64 \n",
      " 1   visitorId      1197 non-null   int64 \n",
      " 2   date           1197 non-null   object\n",
      " 3   revenue        1197 non-null   int64 \n",
      " 4   group          1197 non-null   object\n",
      "dtypes: int64(3), object(2)\n",
      "memory usage: 46.9+ KB\n"
     ]
    }
   ],
   "source": [
    "orders.info()"
   ]
  },
  {
   "cell_type": "code",
   "execution_count": 11,
   "metadata": {},
   "outputs": [],
   "source": [
    "orders.rename(columns = {'transactionId':'transaction_id', 'visitorId':'visitor_id'}, inplace = True)"
   ]
  },
  {
   "cell_type": "code",
   "execution_count": 12,
   "metadata": {},
   "outputs": [],
   "source": [
    "orders['date'] = pd.to_datetime(orders['date'])"
   ]
  },
  {
   "cell_type": "markdown",
   "metadata": {},
   "source": [
    "### Постройте график кумулятивной выручки по группам. Сделайте выводы и предположения."
   ]
  },
  {
   "cell_type": "markdown",
   "metadata": {},
   "source": [
    "Создаем массив уникальных пар значений дат и групп теста, а затем агрегиурем значения"
   ]
  },
  {
   "cell_type": "code",
   "execution_count": 13,
   "metadata": {
    "scrolled": true
   },
   "outputs": [
    {
     "data": {
      "text/html": [
       "<div>\n",
       "<style scoped>\n",
       "    .dataframe tbody tr th:only-of-type {\n",
       "        vertical-align: middle;\n",
       "    }\n",
       "\n",
       "    .dataframe tbody tr th {\n",
       "        vertical-align: top;\n",
       "    }\n",
       "\n",
       "    .dataframe thead th {\n",
       "        text-align: right;\n",
       "    }\n",
       "</style>\n",
       "<table border=\"1\" class=\"dataframe\">\n",
       "  <thead>\n",
       "    <tr style=\"text-align: right;\">\n",
       "      <th></th>\n",
       "      <th>transaction_id</th>\n",
       "      <th>visitor_id</th>\n",
       "      <th>date</th>\n",
       "      <th>revenue</th>\n",
       "      <th>group</th>\n",
       "    </tr>\n",
       "  </thead>\n",
       "  <tbody>\n",
       "    <tr>\n",
       "      <th>0</th>\n",
       "      <td>3667963787</td>\n",
       "      <td>3312258926</td>\n",
       "      <td>2019-08-15</td>\n",
       "      <td>1650</td>\n",
       "      <td>B</td>\n",
       "    </tr>\n",
       "    <tr>\n",
       "      <th>1</th>\n",
       "      <td>2804400009</td>\n",
       "      <td>3642806036</td>\n",
       "      <td>2019-08-15</td>\n",
       "      <td>730</td>\n",
       "      <td>B</td>\n",
       "    </tr>\n",
       "    <tr>\n",
       "      <th>2</th>\n",
       "      <td>2961555356</td>\n",
       "      <td>4069496402</td>\n",
       "      <td>2019-08-15</td>\n",
       "      <td>400</td>\n",
       "      <td>A</td>\n",
       "    </tr>\n",
       "    <tr>\n",
       "      <th>3</th>\n",
       "      <td>3797467345</td>\n",
       "      <td>1196621759</td>\n",
       "      <td>2019-08-15</td>\n",
       "      <td>9759</td>\n",
       "      <td>B</td>\n",
       "    </tr>\n",
       "    <tr>\n",
       "      <th>4</th>\n",
       "      <td>2282983706</td>\n",
       "      <td>2322279887</td>\n",
       "      <td>2019-08-15</td>\n",
       "      <td>2308</td>\n",
       "      <td>B</td>\n",
       "    </tr>\n",
       "    <tr>\n",
       "      <th>...</th>\n",
       "      <td>...</td>\n",
       "      <td>...</td>\n",
       "      <td>...</td>\n",
       "      <td>...</td>\n",
       "      <td>...</td>\n",
       "    </tr>\n",
       "    <tr>\n",
       "      <th>1192</th>\n",
       "      <td>2662137336</td>\n",
       "      <td>3733762160</td>\n",
       "      <td>2019-08-14</td>\n",
       "      <td>6490</td>\n",
       "      <td>B</td>\n",
       "    </tr>\n",
       "    <tr>\n",
       "      <th>1193</th>\n",
       "      <td>2203539145</td>\n",
       "      <td>370388673</td>\n",
       "      <td>2019-08-14</td>\n",
       "      <td>3190</td>\n",
       "      <td>A</td>\n",
       "    </tr>\n",
       "    <tr>\n",
       "      <th>1194</th>\n",
       "      <td>1807773912</td>\n",
       "      <td>573423106</td>\n",
       "      <td>2019-08-14</td>\n",
       "      <td>10550</td>\n",
       "      <td>A</td>\n",
       "    </tr>\n",
       "    <tr>\n",
       "      <th>1195</th>\n",
       "      <td>1947021204</td>\n",
       "      <td>1614305549</td>\n",
       "      <td>2019-08-14</td>\n",
       "      <td>100</td>\n",
       "      <td>A</td>\n",
       "    </tr>\n",
       "    <tr>\n",
       "      <th>1196</th>\n",
       "      <td>3936777065</td>\n",
       "      <td>2108080724</td>\n",
       "      <td>2019-08-15</td>\n",
       "      <td>202740</td>\n",
       "      <td>B</td>\n",
       "    </tr>\n",
       "  </tbody>\n",
       "</table>\n",
       "<p>1197 rows × 5 columns</p>\n",
       "</div>"
      ],
      "text/plain": [
       "      transaction_id  visitor_id       date  revenue group\n",
       "0         3667963787  3312258926 2019-08-15     1650     B\n",
       "1         2804400009  3642806036 2019-08-15      730     B\n",
       "2         2961555356  4069496402 2019-08-15      400     A\n",
       "3         3797467345  1196621759 2019-08-15     9759     B\n",
       "4         2282983706  2322279887 2019-08-15     2308     B\n",
       "...              ...         ...        ...      ...   ...\n",
       "1192      2662137336  3733762160 2019-08-14     6490     B\n",
       "1193      2203539145   370388673 2019-08-14     3190     A\n",
       "1194      1807773912   573423106 2019-08-14    10550     A\n",
       "1195      1947021204  1614305549 2019-08-14      100     A\n",
       "1196      3936777065  2108080724 2019-08-15   202740     B\n",
       "\n",
       "[1197 rows x 5 columns]"
      ]
     },
     "execution_count": 13,
     "metadata": {},
     "output_type": "execute_result"
    }
   ],
   "source": [
    "orders.drop_duplicates()"
   ]
  },
  {
   "cell_type": "code",
   "execution_count": 14,
   "metadata": {},
   "outputs": [
    {
     "data": {
      "text/plain": [
       "1031"
      ]
     },
     "execution_count": 14,
     "metadata": {},
     "output_type": "execute_result"
    }
   ],
   "source": [
    "orders['visitor_id'].nunique()"
   ]
  },
  {
   "cell_type": "code",
   "execution_count": 15,
   "metadata": {},
   "outputs": [
    {
     "data": {
      "text/plain": [
       "58"
      ]
     },
     "execution_count": 15,
     "metadata": {},
     "output_type": "execute_result"
    }
   ],
   "source": [
    "users_in_two_groups = set(orders[orders['group'] == 'A']['visitor_id']) & set(orders[orders['group'] == 'B']['visitor_id'])\n",
    "len(users_in_two_groups)"
   ]
  },
  {
   "cell_type": "markdown",
   "metadata": {},
   "source": [
    "58 пользователей участвуют в обоих группах исследования, что составляет около 5% от всех пользователей, принимавших участие в исследовании. В данном случае, мы удалим таких пользователей, чтобы они не искажали результаты."
   ]
  },
  {
   "cell_type": "code",
   "execution_count": 16,
   "metadata": {},
   "outputs": [
    {
     "data": {
      "text/html": [
       "<div>\n",
       "<style scoped>\n",
       "    .dataframe tbody tr th:only-of-type {\n",
       "        vertical-align: middle;\n",
       "    }\n",
       "\n",
       "    .dataframe tbody tr th {\n",
       "        vertical-align: top;\n",
       "    }\n",
       "\n",
       "    .dataframe thead th {\n",
       "        text-align: right;\n",
       "    }\n",
       "</style>\n",
       "<table border=\"1\" class=\"dataframe\">\n",
       "  <thead>\n",
       "    <tr style=\"text-align: right;\">\n",
       "      <th></th>\n",
       "      <th>transaction_id</th>\n",
       "      <th>visitor_id</th>\n",
       "      <th>date</th>\n",
       "      <th>revenue</th>\n",
       "      <th>group</th>\n",
       "    </tr>\n",
       "  </thead>\n",
       "  <tbody>\n",
       "    <tr>\n",
       "      <th>0</th>\n",
       "      <td>3667963787</td>\n",
       "      <td>3312258926</td>\n",
       "      <td>2019-08-15</td>\n",
       "      <td>1650</td>\n",
       "      <td>B</td>\n",
       "    </tr>\n",
       "    <tr>\n",
       "      <th>1</th>\n",
       "      <td>2804400009</td>\n",
       "      <td>3642806036</td>\n",
       "      <td>2019-08-15</td>\n",
       "      <td>730</td>\n",
       "      <td>B</td>\n",
       "    </tr>\n",
       "    <tr>\n",
       "      <th>3</th>\n",
       "      <td>3797467345</td>\n",
       "      <td>1196621759</td>\n",
       "      <td>2019-08-15</td>\n",
       "      <td>9759</td>\n",
       "      <td>B</td>\n",
       "    </tr>\n",
       "    <tr>\n",
       "      <th>4</th>\n",
       "      <td>2282983706</td>\n",
       "      <td>2322279887</td>\n",
       "      <td>2019-08-15</td>\n",
       "      <td>2308</td>\n",
       "      <td>B</td>\n",
       "    </tr>\n",
       "    <tr>\n",
       "      <th>5</th>\n",
       "      <td>182168103</td>\n",
       "      <td>935554773</td>\n",
       "      <td>2019-08-15</td>\n",
       "      <td>2210</td>\n",
       "      <td>B</td>\n",
       "    </tr>\n",
       "    <tr>\n",
       "      <th>...</th>\n",
       "      <td>...</td>\n",
       "      <td>...</td>\n",
       "      <td>...</td>\n",
       "      <td>...</td>\n",
       "      <td>...</td>\n",
       "    </tr>\n",
       "    <tr>\n",
       "      <th>1191</th>\n",
       "      <td>3592955527</td>\n",
       "      <td>608641596</td>\n",
       "      <td>2019-08-14</td>\n",
       "      <td>16490</td>\n",
       "      <td>B</td>\n",
       "    </tr>\n",
       "    <tr>\n",
       "      <th>1192</th>\n",
       "      <td>2662137336</td>\n",
       "      <td>3733762160</td>\n",
       "      <td>2019-08-14</td>\n",
       "      <td>6490</td>\n",
       "      <td>B</td>\n",
       "    </tr>\n",
       "    <tr>\n",
       "      <th>1193</th>\n",
       "      <td>2203539145</td>\n",
       "      <td>370388673</td>\n",
       "      <td>2019-08-14</td>\n",
       "      <td>3190</td>\n",
       "      <td>A</td>\n",
       "    </tr>\n",
       "    <tr>\n",
       "      <th>1194</th>\n",
       "      <td>1807773912</td>\n",
       "      <td>573423106</td>\n",
       "      <td>2019-08-14</td>\n",
       "      <td>10550</td>\n",
       "      <td>A</td>\n",
       "    </tr>\n",
       "    <tr>\n",
       "      <th>1196</th>\n",
       "      <td>3936777065</td>\n",
       "      <td>2108080724</td>\n",
       "      <td>2019-08-15</td>\n",
       "      <td>202740</td>\n",
       "      <td>B</td>\n",
       "    </tr>\n",
       "  </tbody>\n",
       "</table>\n",
       "<p>1016 rows × 5 columns</p>\n",
       "</div>"
      ],
      "text/plain": [
       "      transaction_id  visitor_id       date  revenue group\n",
       "0         3667963787  3312258926 2019-08-15     1650     B\n",
       "1         2804400009  3642806036 2019-08-15      730     B\n",
       "3         3797467345  1196621759 2019-08-15     9759     B\n",
       "4         2282983706  2322279887 2019-08-15     2308     B\n",
       "5          182168103   935554773 2019-08-15     2210     B\n",
       "...              ...         ...        ...      ...   ...\n",
       "1191      3592955527   608641596 2019-08-14    16490     B\n",
       "1192      2662137336  3733762160 2019-08-14     6490     B\n",
       "1193      2203539145   370388673 2019-08-14     3190     A\n",
       "1194      1807773912   573423106 2019-08-14    10550     A\n",
       "1196      3936777065  2108080724 2019-08-15   202740     B\n",
       "\n",
       "[1016 rows x 5 columns]"
      ]
     },
     "execution_count": 16,
     "metadata": {},
     "output_type": "execute_result"
    }
   ],
   "source": [
    "orders = orders[orders.visitor_id.isin(users_in_two_groups) == False]\n",
    "orders"
   ]
  },
  {
   "cell_type": "code",
   "execution_count": 17,
   "metadata": {},
   "outputs": [],
   "source": [
    "datesGroups = orders[['date','group']].drop_duplicates() "
   ]
  },
  {
   "cell_type": "code",
   "execution_count": 18,
   "metadata": {},
   "outputs": [],
   "source": [
    "ordersAggregated = datesGroups.apply(lambda x: orders[np.logical_and(orders['date'] <= x['date'], orders['group'] == x['group'])]\\\n",
    ".agg({'date' : 'max', 'group' : 'max', 'transaction_id' : 'nunique', 'visitor_id' : 'nunique', 'revenue' : 'sum'}), axis=1).sort_values(by=['date','group'])"
   ]
  },
  {
   "cell_type": "code",
   "execution_count": 19,
   "metadata": {},
   "outputs": [
    {
     "data": {
      "text/html": [
       "<div>\n",
       "<style scoped>\n",
       "    .dataframe tbody tr th:only-of-type {\n",
       "        vertical-align: middle;\n",
       "    }\n",
       "\n",
       "    .dataframe tbody tr th {\n",
       "        vertical-align: top;\n",
       "    }\n",
       "\n",
       "    .dataframe thead th {\n",
       "        text-align: right;\n",
       "    }\n",
       "</style>\n",
       "<table border=\"1\" class=\"dataframe\">\n",
       "  <thead>\n",
       "    <tr style=\"text-align: right;\">\n",
       "      <th></th>\n",
       "      <th>date</th>\n",
       "      <th>group</th>\n",
       "      <th>transaction_id</th>\n",
       "      <th>visitor_id</th>\n",
       "      <th>revenue</th>\n",
       "    </tr>\n",
       "  </thead>\n",
       "  <tbody>\n",
       "    <tr>\n",
       "      <th>55</th>\n",
       "      <td>2019-08-01</td>\n",
       "      <td>A</td>\n",
       "      <td>23</td>\n",
       "      <td>19</td>\n",
       "      <td>142779</td>\n",
       "    </tr>\n",
       "    <tr>\n",
       "      <th>66</th>\n",
       "      <td>2019-08-01</td>\n",
       "      <td>B</td>\n",
       "      <td>17</td>\n",
       "      <td>17</td>\n",
       "      <td>59758</td>\n",
       "    </tr>\n",
       "    <tr>\n",
       "      <th>175</th>\n",
       "      <td>2019-08-02</td>\n",
       "      <td>A</td>\n",
       "      <td>42</td>\n",
       "      <td>36</td>\n",
       "      <td>234381</td>\n",
       "    </tr>\n",
       "    <tr>\n",
       "      <th>173</th>\n",
       "      <td>2019-08-02</td>\n",
       "      <td>B</td>\n",
       "      <td>40</td>\n",
       "      <td>39</td>\n",
       "      <td>221801</td>\n",
       "    </tr>\n",
       "    <tr>\n",
       "      <th>291</th>\n",
       "      <td>2019-08-03</td>\n",
       "      <td>A</td>\n",
       "      <td>66</td>\n",
       "      <td>60</td>\n",
       "      <td>346854</td>\n",
       "    </tr>\n",
       "    <tr>\n",
       "      <th>...</th>\n",
       "      <td>...</td>\n",
       "      <td>...</td>\n",
       "      <td>...</td>\n",
       "      <td>...</td>\n",
       "      <td>...</td>\n",
       "    </tr>\n",
       "    <tr>\n",
       "      <th>533</th>\n",
       "      <td>2019-08-29</td>\n",
       "      <td>B</td>\n",
       "      <td>510</td>\n",
       "      <td>490</td>\n",
       "      <td>4746610</td>\n",
       "    </tr>\n",
       "    <tr>\n",
       "      <th>757</th>\n",
       "      <td>2019-08-30</td>\n",
       "      <td>A</td>\n",
       "      <td>460</td>\n",
       "      <td>437</td>\n",
       "      <td>3311413</td>\n",
       "    </tr>\n",
       "    <tr>\n",
       "      <th>690</th>\n",
       "      <td>2019-08-30</td>\n",
       "      <td>B</td>\n",
       "      <td>531</td>\n",
       "      <td>511</td>\n",
       "      <td>4955833</td>\n",
       "    </tr>\n",
       "    <tr>\n",
       "      <th>958</th>\n",
       "      <td>2019-08-31</td>\n",
       "      <td>A</td>\n",
       "      <td>468</td>\n",
       "      <td>445</td>\n",
       "      <td>3364656</td>\n",
       "    </tr>\n",
       "    <tr>\n",
       "      <th>930</th>\n",
       "      <td>2019-08-31</td>\n",
       "      <td>B</td>\n",
       "      <td>548</td>\n",
       "      <td>528</td>\n",
       "      <td>5068972</td>\n",
       "    </tr>\n",
       "  </tbody>\n",
       "</table>\n",
       "<p>62 rows × 5 columns</p>\n",
       "</div>"
      ],
      "text/plain": [
       "          date group  transaction_id  visitor_id  revenue\n",
       "55  2019-08-01     A              23          19   142779\n",
       "66  2019-08-01     B              17          17    59758\n",
       "175 2019-08-02     A              42          36   234381\n",
       "173 2019-08-02     B              40          39   221801\n",
       "291 2019-08-03     A              66          60   346854\n",
       "..         ...   ...             ...         ...      ...\n",
       "533 2019-08-29     B             510         490  4746610\n",
       "757 2019-08-30     A             460         437  3311413\n",
       "690 2019-08-30     B             531         511  4955833\n",
       "958 2019-08-31     A             468         445  3364656\n",
       "930 2019-08-31     B             548         528  5068972\n",
       "\n",
       "[62 rows x 5 columns]"
      ]
     },
     "execution_count": 19,
     "metadata": {},
     "output_type": "execute_result"
    }
   ],
   "source": [
    "ordersAggregated"
   ]
  },
  {
   "cell_type": "code",
   "execution_count": 20,
   "metadata": {},
   "outputs": [
    {
     "name": "stdout",
     "output_type": "stream",
     "text": [
      "<class 'pandas.core.frame.DataFrame'>\n",
      "Int64Index: 62 entries, 55 to 930\n",
      "Data columns (total 5 columns):\n",
      " #   Column          Non-Null Count  Dtype         \n",
      "---  ------          --------------  -----         \n",
      " 0   date            62 non-null     datetime64[ns]\n",
      " 1   group           62 non-null     object        \n",
      " 2   transaction_id  62 non-null     int64         \n",
      " 3   visitor_id      62 non-null     int64         \n",
      " 4   revenue         62 non-null     int64         \n",
      "dtypes: datetime64[ns](1), int64(3), object(1)\n",
      "memory usage: 2.9+ KB\n"
     ]
    }
   ],
   "source": [
    "ordersAggregated.info()"
   ]
  },
  {
   "cell_type": "code",
   "execution_count": 21,
   "metadata": {},
   "outputs": [
    {
     "data": {
      "text/html": [
       "<div>\n",
       "<style scoped>\n",
       "    .dataframe tbody tr th:only-of-type {\n",
       "        vertical-align: middle;\n",
       "    }\n",
       "\n",
       "    .dataframe tbody tr th {\n",
       "        vertical-align: top;\n",
       "    }\n",
       "\n",
       "    .dataframe thead th {\n",
       "        text-align: right;\n",
       "    }\n",
       "</style>\n",
       "<table border=\"1\" class=\"dataframe\">\n",
       "  <thead>\n",
       "    <tr style=\"text-align: right;\">\n",
       "      <th></th>\n",
       "      <th>date</th>\n",
       "      <th>group</th>\n",
       "      <th>transaction_id</th>\n",
       "      <th>visitor_id</th>\n",
       "      <th>revenue</th>\n",
       "    </tr>\n",
       "  </thead>\n",
       "  <tbody>\n",
       "    <tr>\n",
       "      <th>55</th>\n",
       "      <td>2019-08-01</td>\n",
       "      <td>A</td>\n",
       "      <td>23</td>\n",
       "      <td>19</td>\n",
       "      <td>142779</td>\n",
       "    </tr>\n",
       "    <tr>\n",
       "      <th>66</th>\n",
       "      <td>2019-08-01</td>\n",
       "      <td>B</td>\n",
       "      <td>17</td>\n",
       "      <td>17</td>\n",
       "      <td>59758</td>\n",
       "    </tr>\n",
       "    <tr>\n",
       "      <th>175</th>\n",
       "      <td>2019-08-02</td>\n",
       "      <td>A</td>\n",
       "      <td>42</td>\n",
       "      <td>36</td>\n",
       "      <td>234381</td>\n",
       "    </tr>\n",
       "    <tr>\n",
       "      <th>173</th>\n",
       "      <td>2019-08-02</td>\n",
       "      <td>B</td>\n",
       "      <td>40</td>\n",
       "      <td>39</td>\n",
       "      <td>221801</td>\n",
       "    </tr>\n",
       "    <tr>\n",
       "      <th>291</th>\n",
       "      <td>2019-08-03</td>\n",
       "      <td>A</td>\n",
       "      <td>66</td>\n",
       "      <td>60</td>\n",
       "      <td>346854</td>\n",
       "    </tr>\n",
       "    <tr>\n",
       "      <th>...</th>\n",
       "      <td>...</td>\n",
       "      <td>...</td>\n",
       "      <td>...</td>\n",
       "      <td>...</td>\n",
       "      <td>...</td>\n",
       "    </tr>\n",
       "    <tr>\n",
       "      <th>533</th>\n",
       "      <td>2019-08-29</td>\n",
       "      <td>B</td>\n",
       "      <td>510</td>\n",
       "      <td>490</td>\n",
       "      <td>4746610</td>\n",
       "    </tr>\n",
       "    <tr>\n",
       "      <th>757</th>\n",
       "      <td>2019-08-30</td>\n",
       "      <td>A</td>\n",
       "      <td>460</td>\n",
       "      <td>437</td>\n",
       "      <td>3311413</td>\n",
       "    </tr>\n",
       "    <tr>\n",
       "      <th>690</th>\n",
       "      <td>2019-08-30</td>\n",
       "      <td>B</td>\n",
       "      <td>531</td>\n",
       "      <td>511</td>\n",
       "      <td>4955833</td>\n",
       "    </tr>\n",
       "    <tr>\n",
       "      <th>958</th>\n",
       "      <td>2019-08-31</td>\n",
       "      <td>A</td>\n",
       "      <td>468</td>\n",
       "      <td>445</td>\n",
       "      <td>3364656</td>\n",
       "    </tr>\n",
       "    <tr>\n",
       "      <th>930</th>\n",
       "      <td>2019-08-31</td>\n",
       "      <td>B</td>\n",
       "      <td>548</td>\n",
       "      <td>528</td>\n",
       "      <td>5068972</td>\n",
       "    </tr>\n",
       "  </tbody>\n",
       "</table>\n",
       "<p>62 rows × 5 columns</p>\n",
       "</div>"
      ],
      "text/plain": [
       "          date group  transaction_id  visitor_id  revenue\n",
       "55  2019-08-01     A              23          19   142779\n",
       "66  2019-08-01     B              17          17    59758\n",
       "175 2019-08-02     A              42          36   234381\n",
       "173 2019-08-02     B              40          39   221801\n",
       "291 2019-08-03     A              66          60   346854\n",
       "..         ...   ...             ...         ...      ...\n",
       "533 2019-08-29     B             510         490  4746610\n",
       "757 2019-08-30     A             460         437  3311413\n",
       "690 2019-08-30     B             531         511  4955833\n",
       "958 2019-08-31     A             468         445  3364656\n",
       "930 2019-08-31     B             548         528  5068972\n",
       "\n",
       "[62 rows x 5 columns]"
      ]
     },
     "execution_count": 21,
     "metadata": {},
     "output_type": "execute_result"
    }
   ],
   "source": [
    "ordersAggregated.drop_duplicates()"
   ]
  },
  {
   "cell_type": "code",
   "execution_count": 22,
   "metadata": {},
   "outputs": [],
   "source": [
    "visitorsAggregated = datesGroups.apply(lambda x: visitors[np.logical_and(visitors['date'] <= x['date'], visitors['group'] == x['group'])].agg({'date' : 'max', 'group' : 'max', 'visitors' : 'sum'}), axis=1).sort_values(by=['date','group'])"
   ]
  },
  {
   "cell_type": "code",
   "execution_count": 23,
   "metadata": {},
   "outputs": [
    {
     "data": {
      "text/html": [
       "<div>\n",
       "<style scoped>\n",
       "    .dataframe tbody tr th:only-of-type {\n",
       "        vertical-align: middle;\n",
       "    }\n",
       "\n",
       "    .dataframe tbody tr th {\n",
       "        vertical-align: top;\n",
       "    }\n",
       "\n",
       "    .dataframe thead th {\n",
       "        text-align: right;\n",
       "    }\n",
       "</style>\n",
       "<table border=\"1\" class=\"dataframe\">\n",
       "  <thead>\n",
       "    <tr style=\"text-align: right;\">\n",
       "      <th></th>\n",
       "      <th>date</th>\n",
       "      <th>group</th>\n",
       "      <th>orders</th>\n",
       "      <th>buyers</th>\n",
       "      <th>revenue</th>\n",
       "      <th>visitors</th>\n",
       "    </tr>\n",
       "  </thead>\n",
       "  <tbody>\n",
       "    <tr>\n",
       "      <th>0</th>\n",
       "      <td>2019-08-01</td>\n",
       "      <td>A</td>\n",
       "      <td>23</td>\n",
       "      <td>19</td>\n",
       "      <td>142779</td>\n",
       "      <td>719</td>\n",
       "    </tr>\n",
       "    <tr>\n",
       "      <th>1</th>\n",
       "      <td>2019-08-01</td>\n",
       "      <td>B</td>\n",
       "      <td>17</td>\n",
       "      <td>17</td>\n",
       "      <td>59758</td>\n",
       "      <td>713</td>\n",
       "    </tr>\n",
       "    <tr>\n",
       "      <th>2</th>\n",
       "      <td>2019-08-02</td>\n",
       "      <td>A</td>\n",
       "      <td>42</td>\n",
       "      <td>36</td>\n",
       "      <td>234381</td>\n",
       "      <td>1338</td>\n",
       "    </tr>\n",
       "    <tr>\n",
       "      <th>3</th>\n",
       "      <td>2019-08-02</td>\n",
       "      <td>B</td>\n",
       "      <td>40</td>\n",
       "      <td>39</td>\n",
       "      <td>221801</td>\n",
       "      <td>1294</td>\n",
       "    </tr>\n",
       "    <tr>\n",
       "      <th>4</th>\n",
       "      <td>2019-08-03</td>\n",
       "      <td>A</td>\n",
       "      <td>66</td>\n",
       "      <td>60</td>\n",
       "      <td>346854</td>\n",
       "      <td>1845</td>\n",
       "    </tr>\n",
       "    <tr>\n",
       "      <th>...</th>\n",
       "      <td>...</td>\n",
       "      <td>...</td>\n",
       "      <td>...</td>\n",
       "      <td>...</td>\n",
       "      <td>...</td>\n",
       "      <td>...</td>\n",
       "    </tr>\n",
       "    <tr>\n",
       "      <th>57</th>\n",
       "      <td>2019-08-29</td>\n",
       "      <td>B</td>\n",
       "      <td>510</td>\n",
       "      <td>490</td>\n",
       "      <td>4746610</td>\n",
       "      <td>17708</td>\n",
       "    </tr>\n",
       "    <tr>\n",
       "      <th>58</th>\n",
       "      <td>2019-08-30</td>\n",
       "      <td>A</td>\n",
       "      <td>460</td>\n",
       "      <td>437</td>\n",
       "      <td>3311413</td>\n",
       "      <td>18037</td>\n",
       "    </tr>\n",
       "    <tr>\n",
       "      <th>59</th>\n",
       "      <td>2019-08-30</td>\n",
       "      <td>B</td>\n",
       "      <td>531</td>\n",
       "      <td>511</td>\n",
       "      <td>4955833</td>\n",
       "      <td>18198</td>\n",
       "    </tr>\n",
       "    <tr>\n",
       "      <th>60</th>\n",
       "      <td>2019-08-31</td>\n",
       "      <td>A</td>\n",
       "      <td>468</td>\n",
       "      <td>445</td>\n",
       "      <td>3364656</td>\n",
       "      <td>18736</td>\n",
       "    </tr>\n",
       "    <tr>\n",
       "      <th>61</th>\n",
       "      <td>2019-08-31</td>\n",
       "      <td>B</td>\n",
       "      <td>548</td>\n",
       "      <td>528</td>\n",
       "      <td>5068972</td>\n",
       "      <td>18916</td>\n",
       "    </tr>\n",
       "  </tbody>\n",
       "</table>\n",
       "<p>62 rows × 6 columns</p>\n",
       "</div>"
      ],
      "text/plain": [
       "         date group  orders  buyers  revenue  visitors\n",
       "0  2019-08-01     A      23      19   142779       719\n",
       "1  2019-08-01     B      17      17    59758       713\n",
       "2  2019-08-02     A      42      36   234381      1338\n",
       "3  2019-08-02     B      40      39   221801      1294\n",
       "4  2019-08-03     A      66      60   346854      1845\n",
       "..        ...   ...     ...     ...      ...       ...\n",
       "57 2019-08-29     B     510     490  4746610     17708\n",
       "58 2019-08-30     A     460     437  3311413     18037\n",
       "59 2019-08-30     B     531     511  4955833     18198\n",
       "60 2019-08-31     A     468     445  3364656     18736\n",
       "61 2019-08-31     B     548     528  5068972     18916\n",
       "\n",
       "[62 rows x 6 columns]"
      ]
     },
     "execution_count": 23,
     "metadata": {},
     "output_type": "execute_result"
    }
   ],
   "source": [
    "cumulativeData = ordersAggregated.merge(visitorsAggregated, left_on=['date', 'group'], right_on=['date', 'group'])\n",
    "cumulativeData.columns = ['date', 'group', 'orders', 'buyers', 'revenue', 'visitors']\n",
    "cumulativeData"
   ]
  },
  {
   "cell_type": "code",
   "execution_count": 24,
   "metadata": {},
   "outputs": [
    {
     "data": {
      "text/plain": [
       "Text(0, 0.5, 'Выручка')"
      ]
     },
     "execution_count": 24,
     "metadata": {},
     "output_type": "execute_result"
    },
    {
     "data": {
      "image/png": "[encoded data removed]",
      "text/plain": [
       "<Figure size 1080x432 with 1 Axes>"
      ]
     },
     "metadata": {
      "needs_background": "light"
     },
     "output_type": "display_data"
    }
   ],
   "source": [
    "# датафрейм с кумулятивным количеством заказов и кумулятивной выручкой по дням в группе А\n",
    "cumulativeRevenueA = cumulativeData[cumulativeData['group']=='A'][['date','revenue', 'orders', 'visitors']]\n",
    "\n",
    "# датафрейм с кумулятивным количеством заказов и кумулятивной выручкой по дням в группе B\n",
    "cumulativeRevenueB = cumulativeData[cumulativeData['group']=='B'][['date','revenue', 'orders', 'visitors']]\n",
    "\n",
    "plt.figure(figsize=(15, 6))\n",
    "# Строим график выручки группы А\n",
    "plt.plot(cumulativeRevenueA['date'], cumulativeRevenueA['revenue'], label='A')\n",
    "\n",
    "# Строим график выручки группы B\n",
    "plt.plot(cumulativeRevenueB['date'], cumulativeRevenueB['revenue'], label='B')\n",
    "\n",
    "plt.legend() \n",
    "plt.title(\"Кумулятивная выручка по группам\")\n",
    "plt.xlabel(\"Дата\") \n",
    "plt.ylabel(\"Выручка\")"
   ]
  },
  {
   "cell_type": "markdown",
   "metadata": {},
   "source": [
    "Выручка увеличивается со временем теста, однако в группе B заметен резкий рост, что может сказать о выбросах в данных. Пока что по кумулятивной выручке без удаления выбросов лидирует группа B"
   ]
  },
  {
   "cell_type": "markdown",
   "metadata": {},
   "source": [
    "### Постройте график кумулятивного среднего чека по группам. Сделайте выводы и предположения."
   ]
  },
  {
   "cell_type": "code",
   "execution_count": 25,
   "metadata": {},
   "outputs": [
    {
     "data": {
      "text/plain": [
       "Text(0, 0.5, 'Средний чек')"
      ]
     },
     "execution_count": 25,
     "metadata": {},
     "output_type": "execute_result"
    },
    {
     "data": {
      "image/png": "[encoded data removed]",
      "text/plain": [
       "<Figure size 1080x432 with 1 Axes>"
      ]
     },
     "metadata": {
      "needs_background": "light"
     },
     "output_type": "display_data"
    }
   ],
   "source": [
    "plt.figure(figsize=(15, 6))\n",
    "plt.plot(cumulativeRevenueA['date'], cumulativeRevenueA['revenue']/cumulativeRevenueA['orders'], label='A')\n",
    "plt.plot(cumulativeRevenueB['date'], cumulativeRevenueB['revenue']/cumulativeRevenueB['orders'], label='B')\n",
    "plt.legend() \n",
    "plt.title(\"Кумулятивный средний чек по группам\")\n",
    "plt.xlabel(\"Дата\") \n",
    "plt.ylabel(\"Средний чек\")"
   ]
  },
  {
   "cell_type": "markdown",
   "metadata": {},
   "source": [
    "Резкий скачок среднего чека в группе также говорит о выбросах, в общем средний чек по группе B лидирует."
   ]
  },
  {
   "cell_type": "markdown",
   "metadata": {},
   "source": [
    "### Постройте график относительного изменения кумулятивного среднего чека группы B к группе A. Сделайте выводы и предположения."
   ]
  },
  {
   "cell_type": "code",
   "execution_count": 26,
   "metadata": {
    "scrolled": true
   },
   "outputs": [
    {
     "data": {
      "text/plain": [
       "Text(0, 0.5, 'Изменение')"
      ]
     },
     "execution_count": 26,
     "metadata": {},
     "output_type": "execute_result"
    },
    {
     "data": {
      "image/png": "[encoded data removed]",
      "text/plain": [
       "<Figure size 1080x432 with 1 Axes>"
      ]
     },
     "metadata": {
      "needs_background": "light"
     },
     "output_type": "display_data"
    }
   ],
   "source": [
    "mergedCumulativeRevenue = cumulativeRevenueA.merge(cumulativeRevenueB, left_on='date', right_on='date', how='left', suffixes=['A', 'B'])\n",
    "\n",
    "# cтроим отношение средних чеков\n",
    "plt.figure(figsize=(15, 6))\n",
    "plt.plot(mergedCumulativeRevenue['date'], (mergedCumulativeRevenue['revenueB']/mergedCumulativeRevenue['ordersB'])/(mergedCumulativeRevenue['revenueA']/mergedCumulativeRevenue['ordersA'])-1)\n",
    "\n",
    "# добавляем ось X\n",
    "plt.axhline(y=0, color='black', linestyle='--') \n",
    "plt.title(\"График относительного изменения кумулятивного среднего чека\")\n",
    "plt.xlabel(\"Дата\") \n",
    "plt.ylabel(\"Изменение\")"
   ]
  },
  {
   "cell_type": "markdown",
   "metadata": {},
   "source": [
    "График изменения нестабильный, есть резкие скачки, что также говорит о выбросах в данных."
   ]
  },
  {
   "cell_type": "markdown",
   "metadata": {},
   "source": [
    "### Постройте график кумулятивного среднего количества заказов на посетителя по группам. Сделайте выводы и предположения."
   ]
  },
  {
   "cell_type": "code",
   "execution_count": 27,
   "metadata": {},
   "outputs": [
    {
     "data": {
      "text/plain": [
       "Text(0, 0.5, 'Среднее количество заказов')"
      ]
     },
     "execution_count": 27,
     "metadata": {},
     "output_type": "execute_result"
    },
    {
     "data": {
      "image/png": "[encoded data removed]",
      "text/plain": [
       "<Figure size 1080x432 with 1 Axes>"
      ]
     },
     "metadata": {
      "needs_background": "light"
     },
     "output_type": "display_data"
    }
   ],
   "source": [
    "plt.figure(figsize=(15, 6))\n",
    "plt.plot(mergedCumulativeRevenue['date'], cumulativeRevenueA['orders']/cumulativeRevenueA['visitors'], label='A')\n",
    "plt.plot(mergedCumulativeRevenue['date'], cumulativeRevenueB['orders']/cumulativeRevenueB['visitors'], label='B')\n",
    "plt.legend() \n",
    "plt.title(\"Кумулятивный среднее количество заказов по посетителям\")\n",
    "plt.xlabel(\"Дата\") \n",
    "plt.ylabel(\"Среднее количество заказов\")"
   ]
  },
  {
   "cell_type": "markdown",
   "metadata": {},
   "source": [
    "Среднее количество заказов на пользователя больше у группы B, однако в начле теста в группе A и B был сильный скачок, а затем спад. Среднее значение может быть искажено слишком большими заказами."
   ]
  },
  {
   "cell_type": "markdown",
   "metadata": {},
   "source": [
    "### Постройте график относительного изменения кумулятивного среднего количества заказов на посетителя группы B к группе A. Сделайте выводы и предположения."
   ]
  },
  {
   "cell_type": "code",
   "execution_count": 28,
   "metadata": {},
   "outputs": [
    {
     "data": {
      "text/html": [
       "<div>\n",
       "<style scoped>\n",
       "    .dataframe tbody tr th:only-of-type {\n",
       "        vertical-align: middle;\n",
       "    }\n",
       "\n",
       "    .dataframe tbody tr th {\n",
       "        vertical-align: top;\n",
       "    }\n",
       "\n",
       "    .dataframe thead th {\n",
       "        text-align: right;\n",
       "    }\n",
       "</style>\n",
       "<table border=\"1\" class=\"dataframe\">\n",
       "  <thead>\n",
       "    <tr style=\"text-align: right;\">\n",
       "      <th></th>\n",
       "      <th>date</th>\n",
       "      <th>revenueA</th>\n",
       "      <th>ordersA</th>\n",
       "      <th>visitorsA</th>\n",
       "      <th>revenueB</th>\n",
       "      <th>ordersB</th>\n",
       "      <th>visitorsB</th>\n",
       "    </tr>\n",
       "  </thead>\n",
       "  <tbody>\n",
       "    <tr>\n",
       "      <th>0</th>\n",
       "      <td>2019-08-01</td>\n",
       "      <td>142779</td>\n",
       "      <td>23</td>\n",
       "      <td>719</td>\n",
       "      <td>59758</td>\n",
       "      <td>17</td>\n",
       "      <td>713</td>\n",
       "    </tr>\n",
       "    <tr>\n",
       "      <th>1</th>\n",
       "      <td>2019-08-02</td>\n",
       "      <td>234381</td>\n",
       "      <td>42</td>\n",
       "      <td>1338</td>\n",
       "      <td>221801</td>\n",
       "      <td>40</td>\n",
       "      <td>1294</td>\n",
       "    </tr>\n",
       "    <tr>\n",
       "      <th>2</th>\n",
       "      <td>2019-08-03</td>\n",
       "      <td>346854</td>\n",
       "      <td>66</td>\n",
       "      <td>1845</td>\n",
       "      <td>288850</td>\n",
       "      <td>54</td>\n",
       "      <td>1803</td>\n",
       "    </tr>\n",
       "    <tr>\n",
       "      <th>3</th>\n",
       "      <td>2019-08-04</td>\n",
       "      <td>388030</td>\n",
       "      <td>77</td>\n",
       "      <td>2562</td>\n",
       "      <td>385740</td>\n",
       "      <td>68</td>\n",
       "      <td>2573</td>\n",
       "    </tr>\n",
       "    <tr>\n",
       "      <th>4</th>\n",
       "      <td>2019-08-05</td>\n",
       "      <td>474413</td>\n",
       "      <td>99</td>\n",
       "      <td>3318</td>\n",
       "      <td>475648</td>\n",
       "      <td>89</td>\n",
       "      <td>3280</td>\n",
       "    </tr>\n",
       "  </tbody>\n",
       "</table>\n",
       "</div>"
      ],
      "text/plain": [
       "        date  revenueA  ordersA  visitorsA  revenueB  ordersB  visitorsB\n",
       "0 2019-08-01    142779       23        719     59758       17        713\n",
       "1 2019-08-02    234381       42       1338    221801       40       1294\n",
       "2 2019-08-03    346854       66       1845    288850       54       1803\n",
       "3 2019-08-04    388030       77       2562    385740       68       2573\n",
       "4 2019-08-05    474413       99       3318    475648       89       3280"
      ]
     },
     "execution_count": 28,
     "metadata": {},
     "output_type": "execute_result"
    }
   ],
   "source": [
    "mergedCumulativeRevenue = cumulativeRevenueA.merge(cumulativeRevenueB, left_on='date', right_on='date', how='left', suffixes=['A', 'B'])\n",
    "mergedCumulativeRevenue.head(5)"
   ]
  },
  {
   "cell_type": "code",
   "execution_count": 29,
   "metadata": {},
   "outputs": [
    {
     "data": {
      "text/plain": [
       "Text(0, 0.5, 'Изменение')"
      ]
     },
     "execution_count": 29,
     "metadata": {},
     "output_type": "execute_result"
    },
    {
     "data": {
      "image/png": "[encoded data removed]",
      "text/plain": [
       "<Figure size 1080x432 with 1 Axes>"
      ]
     },
     "metadata": {
      "needs_background": "light"
     },
     "output_type": "display_data"
    }
   ],
   "source": [
    "plt.figure(figsize=(15, 6))\n",
    "plt.plot(mergedCumulativeRevenue['date'], (mergedCumulativeRevenue['ordersB']/mergedCumulativeRevenue['visitorsB'])/(mergedCumulativeRevenue['ordersA']/mergedCumulativeRevenue['visitorsB'])-1)\n",
    "plt.axhline(y=0, color='black', linestyle='--') \n",
    "\n",
    "plt.title(\"Изменение кумулятивного среднего количество заказов на пользователя\")\n",
    "plt.xlabel(\"Дата\") \n",
    "plt.ylabel(\"Изменение\")\n"
   ]
  },
  {
   "cell_type": "markdown",
   "metadata": {},
   "source": [
    "Прсле нескольких дней исследования группа B значительно вырвалась вперед и сохраняла первенство до конца исследования. Надо будет удалить выбросы для того, чтобы понять, какая группа дейсвтительно эффективнее."
   ]
  },
  {
   "cell_type": "markdown",
   "metadata": {},
   "source": [
    "### Постройте точечный график количества заказов по пользователям. Сделайте выводы и предположения."
   ]
  },
  {
   "cell_type": "code",
   "execution_count": 30,
   "metadata": {},
   "outputs": [],
   "source": [
    "ordersByUsers = orders.groupby('visitor_id', as_index=False).agg({'transaction_id' : 'nunique'})\n",
    "ordersByUsers.columns = ['visitor_id', 'orders']"
   ]
  },
  {
   "cell_type": "code",
   "execution_count": 31,
   "metadata": {},
   "outputs": [
    {
     "data": {
      "text/plain": [
       "Text(0.5, 1.0, 'Количество заказов')"
      ]
     },
     "execution_count": 31,
     "metadata": {},
     "output_type": "execute_result"
    },
    {
     "data": {
      "image/png": "[encoded data removed]",
      "text/plain": [
       "<Figure size 432x288 with 1 Axes>"
      ]
     },
     "metadata": {
      "needs_background": "light"
     },
     "output_type": "display_data"
    }
   ],
   "source": [
    "x_values = pd.Series(range(0,len(ordersByUsers['orders'])))\n",
    "plt.scatter(x_values, ordersByUsers['orders']) \n",
    "plt.title(\"Количество заказов\")"
   ]
  },
  {
   "cell_type": "markdown",
   "metadata": {},
   "source": [
    "Чаще всего пользователи делали не более одного заказа, есть много тех, кто совершил два заказа. Есть и пользователи, который совершили аномально много заказов, например 10 и выше."
   ]
  },
  {
   "cell_type": "markdown",
   "metadata": {},
   "source": [
    "### Посчитайте 95-й и 99-й перцентили количества заказов на пользователя. Выберите границу для определения аномальных пользователей."
   ]
  },
  {
   "cell_type": "code",
   "execution_count": 32,
   "metadata": {},
   "outputs": [
    {
     "data": {
      "text/plain": [
       "array([1., 1., 2.])"
      ]
     },
     "execution_count": 32,
     "metadata": {},
     "output_type": "execute_result"
    }
   ],
   "source": [
    "np.percentile(ordersByUsers['orders'], [90, 95, 99])"
   ]
  },
  {
   "cell_type": "markdown",
   "metadata": {},
   "source": [
    "Не более 1% пользователей оформляли больше, чем 4 заказа, а не более 5% больше, чем 2 заказа. В идеале не удалять больше 5% данных, поэтому можно установить вехнюю границу числа заказов в 3 единицы, а все что выше считать уже аномальным."
   ]
  },
  {
   "cell_type": "markdown",
   "metadata": {},
   "source": [
    "### Постройте точечный график стоимостей заказов. Сделайте выводы и предположения."
   ]
  },
  {
   "cell_type": "code",
   "execution_count": 33,
   "metadata": {},
   "outputs": [
    {
     "data": {
      "text/plain": [
       "Text(0.5, 1.0, 'Стоимость заказов')"
      ]
     },
     "execution_count": 33,
     "metadata": {},
     "output_type": "execute_result"
    },
    {
     "data": {
      "image/png": "[encoded data removed]",
      "text/plain": [
       "<Figure size 432x288 with 1 Axes>"
      ]
     },
     "metadata": {
      "needs_background": "light"
     },
     "output_type": "display_data"
    }
   ],
   "source": [
    "x_values = pd.Series(range(0,len(orders['revenue'])))\n",
    "plt.scatter(x_values, orders['revenue']) \n",
    "plt.title(\"Стоимость заказов\")"
   ]
  },
  {
   "cell_type": "markdown",
   "metadata": {},
   "source": [
    "Есть выбросы со стоимостью заказов больше, чем 120000, основная часть заказов стоимостью до 15.000"
   ]
  },
  {
   "cell_type": "markdown",
   "metadata": {},
   "source": [
    "### Посчитайте 95-й и 99-й перцентили стоимости заказов. Выберите границу для определения аномальных заказов."
   ]
  },
  {
   "cell_type": "code",
   "execution_count": 34,
   "metadata": {},
   "outputs": [
    {
     "data": {
      "text/plain": [
       "array([17990., 26785., 53904.])"
      ]
     },
     "execution_count": 34,
     "metadata": {},
     "output_type": "execute_result"
    }
   ],
   "source": [
    "np.percentile(orders['revenue'], [90, 95, 99])"
   ]
  },
  {
   "cell_type": "markdown",
   "metadata": {},
   "source": [
    "Не более 5% заказов дороже 28.000. Можно установить верхнюю границу в 30.000"
   ]
  },
  {
   "cell_type": "markdown",
   "metadata": {},
   "source": [
    "### Посчитайте статистическую значимость различий в среднем количестве заказов на посетителя между группами по «сырым» данным. Сделайте выводы и предположения."
   ]
  },
  {
   "cell_type": "markdown",
   "metadata": {},
   "source": [
    "Пподготовим данные для того, чтобы сравнить выборки по тесту Уилкоксона-Манна-Уитни"
   ]
  },
  {
   "cell_type": "code",
   "execution_count": 35,
   "metadata": {},
   "outputs": [],
   "source": [
    "ordersByUsersA = (\n",
    "    orders[orders['group'] == 'A']\n",
    "    .groupby('visitor_id', as_index=False)\n",
    "    .agg({'transaction_id': pd.Series.nunique}))\n",
    "ordersByUsersA.columns = ['visitor_id', 'orders']\n",
    "\n",
    "ordersByUsersB = (\n",
    "    orders[orders['group'] == 'B']\n",
    "    .groupby('visitor_id', as_index=False)\n",
    "    .agg({'transaction_id': pd.Series.nunique}))\n",
    "ordersByUsersB.columns = ['visitor_id', 'orders'] "
   ]
  },
  {
   "cell_type": "code",
   "execution_count": 36,
   "metadata": {},
   "outputs": [],
   "source": [
    "sampleA = pd.concat([ordersByUsersA['orders'],pd.Series(0, index=np.arange(mergedCumulativeRevenue['visitorsA'].sum() - len(ordersByUsersA['orders'])), name='orders')],axis=0)\n",
    "\n",
    "sampleB = pd.concat([ordersByUsersB['orders'],pd.Series(0, index=np.arange(mergedCumulativeRevenue['visitorsB'].sum() - len(ordersByUsersB['orders'])), name='orders')],axis=0) "
   ]
  },
  {
   "cell_type": "markdown",
   "metadata": {},
   "source": [
    "Сформулируем гипотезы:\n",
    "\n",
    "Нулевая: различий в среднем количестве заказов между группами нет\n",
    "\n",
    "Альтернативная: различия в среднем количестве заказов между группами есть"
   ]
  },
  {
   "cell_type": "code",
   "execution_count": 37,
   "metadata": {},
   "outputs": [
    {
     "name": "stdout",
     "output_type": "stream",
     "text": [
      "0.010\n",
      "0.166\n"
     ]
    }
   ],
   "source": [
    "print(\"{0:.3f}\".format(stats.mannwhitneyu(sampleA, sampleB)[1]))\n",
    "\n",
    "print(\"{0:.3f}\".format(sampleB.mean() / sampleA.mean() - 1))"
   ]
  },
  {
   "cell_type": "markdown",
   "metadata": {},
   "source": [
    "P-уровень значимости меньше, чем 0.05, значит мы отвергаем гипотезу о том, что статистичеки значимых различий нет. \n",
    "Относительный проигрыш группы A по сырым данным равен 14.4 процента"
   ]
  },
  {
   "cell_type": "markdown",
   "metadata": {},
   "source": [
    "### Посчитайте статистическую значимость различий в среднем чеке заказа между группами по «сырым» данным. Сделайте выводы и предположения."
   ]
  },
  {
   "cell_type": "markdown",
   "metadata": {},
   "source": [
    "Сформулируем гипотезы: \n",
    "\n",
    "Нулевая: различий в среднем чеке заказа между группами нет\n",
    "\n",
    "Альтернативная: различия в в среднем чеке заказа между группами есть"
   ]
  },
  {
   "cell_type": "code",
   "execution_count": 38,
   "metadata": {},
   "outputs": [
    {
     "name": "stdout",
     "output_type": "stream",
     "text": [
      "0.829\n",
      "0.287\n"
     ]
    }
   ],
   "source": [
    "print('{0:.3f}'.format(stats.mannwhitneyu(orders[orders['group']=='A']['revenue'], orders[orders['group']=='B']['revenue'])[1]))\n",
    "print('{0:.3f}'.format(orders[orders['group']=='B']['revenue'].mean()/orders[orders['group']=='A']['revenue'].mean()-1)) "
   ]
  },
  {
   "cell_type": "markdown",
   "metadata": {},
   "source": [
    "P-уровень значимости больше, чем 0.05, а значит мы не можем отрицать нулевую гипотезу, между выборками нет статистических различий, хотя относительный проигрыш группы составляет 25,9 процентов по сырым данным."
   ]
  },
  {
   "cell_type": "markdown",
   "metadata": {},
   "source": [
    "### Посчитайте статистическую значимость различий в среднем количестве заказов на посетителя между группами по «очищенным» данным. Сделайте выводы и предположения."
   ]
  },
  {
   "cell_type": "markdown",
   "metadata": {},
   "source": [
    "Для начала очистим все выбросы в данных. Ранее мы установили, что нормальная в данном исследовании стоимость заказа составляет до 30000, а число заказов до 3 включительно."
   ]
  },
  {
   "cell_type": "code",
   "execution_count": 39,
   "metadata": {},
   "outputs": [],
   "source": [
    "usersWithManyOrders = pd.concat(\n",
    "    [ordersByUsersA[ordersByUsersA['orders'] > 3]['visitor_id'],\n",
    "    ordersByUsersB[ordersByUsersB['orders'] > 3]['visitor_id'],], axis=0,)\n",
    "usersWithExpensiveOrders = orders[orders['revenue'] > 20000]['visitor_id']\n",
    "abnormalUsers = (\n",
    "    pd.concat([usersWithManyOrders, usersWithExpensiveOrders], axis=0).drop_duplicates().sort_values())"
   ]
  },
  {
   "cell_type": "code",
   "execution_count": 40,
   "metadata": {},
   "outputs": [
    {
     "data": {
      "text/plain": [
       "568     113298937\n",
       "1099    148427295\n",
       "461     154576532\n",
       "928     204675465\n",
       "684     358944393\n",
       "Name: visitor_id, dtype: int64"
      ]
     },
     "execution_count": 40,
     "metadata": {},
     "output_type": "execute_result"
    }
   ],
   "source": [
    "abnormalUsers.head(5)"
   ]
  },
  {
   "cell_type": "code",
   "execution_count": 41,
   "metadata": {},
   "outputs": [
    {
     "data": {
      "text/plain": [
       "70"
      ]
     },
     "execution_count": 41,
     "metadata": {},
     "output_type": "execute_result"
    }
   ],
   "source": [
    "abnormalUsers.shape[0]"
   ]
  },
  {
   "cell_type": "markdown",
   "metadata": {},
   "source": [
    "После преобразований 90 пользователей мы не будем учитывать про анализе результатов."
   ]
  },
  {
   "cell_type": "markdown",
   "metadata": {},
   "source": [
    "Добавим необхолимые столбцы и соберем все в одну таблицу, а затем избавимся от аномальных значений"
   ]
  },
  {
   "cell_type": "code",
   "execution_count": 42,
   "metadata": {},
   "outputs": [],
   "source": [
    "visitorsADaily = visitors[visitors['group'] == 'A'][['date', 'visitors']]\n",
    "visitorsADaily.columns = ['date', 'visitorsPerDateA']\n",
    "\n",
    "visitorsACummulative = visitorsADaily.apply(\n",
    "    lambda x: visitorsADaily[visitorsADaily['date'] <= x['date']].agg(\n",
    "        {'date': 'max', 'visitorsPerDateA': 'sum'}\n",
    "    ),\n",
    "    axis=1,\n",
    ")\n",
    "visitorsACummulative.columns = ['date', 'visitorsCummulativeA']\n",
    "\n",
    "visitorsBDaily = visitors[visitors['group'] == 'B'][['date', 'visitors']]\n",
    "visitorsBDaily.columns = ['date', 'visitorsPerDateB']\n",
    "\n",
    "visitorsBCummulative = visitorsBDaily.apply(\n",
    "    lambda x: visitorsBDaily[visitorsBDaily['date'] <= x['date']].agg(\n",
    "        {'date': 'max', 'visitorsPerDateB': 'sum'}\n",
    "    ),\n",
    "    axis=1,\n",
    ")\n",
    "visitorsBCummulative.columns = ['date', 'visitorsCummulativeB']\n",
    "\n",
    "ordersADaily = (\n",
    "    orders[orders['group'] == 'A'][['date', 'transaction_id', 'visitor_id', 'revenue']]\n",
    "    .groupby('date', as_index=False)\n",
    "    .agg({'transaction_id': pd.Series.nunique, 'revenue': 'sum'})\n",
    ")\n",
    "ordersADaily.columns = ['date', 'ordersPerDateA', 'revenuePerDateA']\n",
    "\n",
    "ordersACummulative = ordersADaily.apply(\n",
    "    lambda x: ordersADaily[ordersADaily['date'] <= x['date']].agg(\n",
    "        {'date': 'max', 'ordersPerDateA': 'sum', 'revenuePerDateA': 'sum'}\n",
    "    ),\n",
    "    axis=1,\n",
    ").sort_values(by=['date'])\n",
    "ordersACummulative.columns = [\n",
    "    'date',\n",
    "    'ordersCummulativeA',\n",
    "    'revenueCummulativeA',\n",
    "]\n",
    "\n",
    "ordersBDaily = (\n",
    "    orders[orders['group'] == 'B'][['date', 'transaction_id', 'visitor_id', 'revenue']]\n",
    "    .groupby('date', as_index=False)\n",
    "    .agg({'transaction_id': pd.Series.nunique, 'revenue': 'sum'})\n",
    ")\n",
    "ordersBDaily.columns = ['date', 'ordersPerDateB', 'revenuePerDateB']\n",
    "\n",
    "ordersBCummulative = ordersBDaily.apply(\n",
    "    lambda x: ordersBDaily[ordersBDaily['date'] <= x['date']].agg(\n",
    "        {'date': 'max', 'ordersPerDateB': 'sum', 'revenuePerDateB': 'sum'}\n",
    "    ),\n",
    "    axis=1,\n",
    ").sort_values(by=['date'])\n",
    "ordersBCummulative.columns = [\n",
    "    'date',\n",
    "    'ordersCummulativeB',\n",
    "    'revenueCummulativeB',\n",
    "]\n",
    "\n",
    "data = (\n",
    "    ordersADaily.merge(\n",
    "        ordersBDaily, left_on='date', right_on='date', how='left'\n",
    "    )\n",
    "    .merge(ordersACummulative, left_on='date', right_on='date', how='left')\n",
    "    .merge(ordersBCummulative, left_on='date', right_on='date', how='left')\n",
    "    .merge(visitorsADaily, left_on='date', right_on='date', how='left')\n",
    "    .merge(visitorsBDaily, left_on='date', right_on='date', how='left')\n",
    "    .merge(visitorsACummulative, left_on='date', right_on='date', how='left')\n",
    "    .merge(visitorsBCummulative, left_on='date', right_on='date', how='left')\n",
    ")"
   ]
  },
  {
   "cell_type": "code",
   "execution_count": 43,
   "metadata": {},
   "outputs": [],
   "source": [
    "sampleAFiltered = pd.concat([ordersByUsersA[np.logical_not(ordersByUsersA['visitor_id'].isin(abnormalUsers))\n",
    "        ]['orders'],pd.Series(0,index=np.arange(data['visitorsPerDateA'].sum() - len(ordersByUsersA['orders'])\n",
    "            ),name='orders',),],axis=0,)\n",
    "\n",
    "sampleBFiltered = pd.concat(\n",
    "    [ordersByUsersB[np.logical_not(ordersByUsersB['visitor_id'].isin(abnormalUsers))]['orders'],\n",
    "        pd.Series(0,index=np.arange(\n",
    "                data['visitorsPerDateB'].sum() - len(ordersByUsersB['orders'])),name='orders',),],axis=0,) "
   ]
  },
  {
   "cell_type": "markdown",
   "metadata": {},
   "source": [
    "Сформулируем гипотезы:\n",
    "\n",
    "Нулевая: различий в среднем количестве заказов между группами нет\n",
    "\n",
    "Альтернативная: различия в среднем количестве заказов между группами есть"
   ]
  },
  {
   "cell_type": "code",
   "execution_count": 44,
   "metadata": {},
   "outputs": [
    {
     "name": "stdout",
     "output_type": "stream",
     "text": [
      "0.017\n",
      "0.162\n"
     ]
    }
   ],
   "source": [
    "print('{0:.3f}'.format(stats.mannwhitneyu(sampleAFiltered, sampleBFiltered)[1]))\n",
    "print('{0:.3f}'.format(sampleBFiltered.mean()/sampleAFiltered.mean()-1)) "
   ]
  },
  {
   "cell_type": "markdown",
   "metadata": {},
   "source": [
    "Изменения после очищения данных не столь значительны, также есть статистическое различие между выборками, относительный проигрыш первой группы равен 15,3%"
   ]
  },
  {
   "cell_type": "markdown",
   "metadata": {},
   "source": [
    "### Посчитайте статистическую значимость различий в среднем чеке заказа между группами по «очищенным» данным. Сделайте выводы и предположения."
   ]
  },
  {
   "cell_type": "markdown",
   "metadata": {},
   "source": [
    "Сформулируем гипотезы:\n",
    "\n",
    "Нулевая: различий в среднем чеке заказа между группами нет\n",
    "\n",
    "Альтернативная: различия в в среднем чеке заказа между группами есть"
   ]
  },
  {
   "cell_type": "code",
   "execution_count": 45,
   "metadata": {},
   "outputs": [
    {
     "name": "stdout",
     "output_type": "stream",
     "text": [
      "0.845\n",
      "-0.042\n"
     ]
    }
   ],
   "source": [
    "print('{0:.3f}'.format(\n",
    "        stats.mannwhitneyu(orders[\n",
    "                np.logical_and(\n",
    "                    orders['group'] == 'A',\n",
    "                    np.logical_not(orders['visitor_id'].isin(abnormalUsers)),\n",
    "                )]['revenue'],\n",
    "            orders[np.logical_and(orders['group'] == 'B',\n",
    "                    np.logical_not(orders['visitor_id'].isin(abnormalUsers)),\n",
    "                )]['revenue'],)[1]))\n",
    "\n",
    "print(\n",
    "    \"{0:.3f}\".format(\n",
    "        orders[\n",
    "            np.logical_and(\n",
    "                orders['group'] == 'B',\n",
    "                np.logical_not(orders['visitor_id'].isin(abnormalUsers)),\n",
    "            )\n",
    "        ]['revenue'].mean()\n",
    "        / orders[\n",
    "            np.logical_and(orders['group'] == 'A',\n",
    "np.logical_not(orders['visitor_id'].isin(abnormalUsers)),)]['revenue'].mean()- 1)) "
   ]
  },
  {
   "cell_type": "markdown",
   "metadata": {},
   "source": [
    "P-уровень значимости остался на том же уровне, несмотря на удаление выбросов, статистическое различие между группами составляет 4%."
   ]
  },
  {
   "cell_type": "markdown",
   "metadata": {},
   "source": [
    "### Примите решение по результатам теста и объясните его. Варианты решений:\n",
    "1. Остановить тест, зафиксировать победу одной из групп.\n",
    "2. Остановить тест, зафиксировать отсутствие различий между группами.\n",
    "3. Продолжить тест."
   ]
  },
  {
   "cell_type": "markdown",
   "metadata": {},
   "source": [
    "На данном этапе исследования у нас имеются следующие факты:\n",
    "- По сырым данным есть статистические различия в среднем количестве заказов на посетителей, по очищенным данным также есть статистическая разница. \n",
    "\n",
    "- Что касается среднего чека, между выборками нет статистических различий в обоих случаях, есть небольшая статистическая разница по сегментам\n",
    "\n",
    "По имеющимся данным лучше продолжить тест, так как сейчас нельзя однозначно зафиксировать победу одной из групп или же отсутствие различий."
   ]
  },
  {
   "cell_type": "markdown",
   "metadata": {},
   "source": [
    "# Вывод"
   ]
  },
  {
   "cell_type": "markdown",
   "metadata": {},
   "source": [
    "Данное исследование проводилось для интернет-магазина, где необходимо проанализировать и приоритезировать гипотезы, а также проанализировать результаты A/B тестирования.\n",
    "\n",
    "Основные задачи данного исследования:\n",
    "\n",
    "- Приоритизировать гипотезы\n",
    "- Запустить A/B-тест\n",
    "- Проанализировать результаты A/B-тестирования\n",
    "\n",
    "В результате приоритизации гипотез самыми значимыми были выбраны 7 (Добавить форму подписки на все основные страницы), 2 (Добавить блоки рекомендаций товаров) и 0 (Добавить два новых канала привлечения трафика).\n",
    "\n",
    "\n",
    "При анализе AB-тестирования результаты были следующие\n",
    "Практически все графики показывали лидерство группы B практически по всем параметрам, однако резкие подъемы и спады свидетельствовали о выбросах в данных. После их устранения, полученные выборки были проверены по тесту Уилкоксона-Манна-Уитни.\n",
    "\n",
    "На данном этапе исследования у нас имеются следующие факты:\n",
    "- По сырым данным есть статистические различия в среднем количестве заказов на посетителей, по очищенным данным также есть статистическая разница. \n",
    "\n",
    "- Что касается среднего чека, между выборками нет статистических различий в обоих случаях, есть небольшая статистическая ращница по сегментам\n",
    "\n",
    "По имеющимся данным лучше продолжить тест, так как сейчас нельзя однозначно зафиксировать победу одной из групп или же отсутствие различий."
   ]
  }
 ],
 "metadata": {
  "ExecuteTimeLog": [
   {
    "duration": 440,
    "start_time": "2023-06-12T09:55:42.838Z"
   },
   {
    "duration": 70,
    "start_time": "2023-06-12T09:56:04.384Z"
   },
   {
    "duration": 17,
    "start_time": "2023-06-12T09:56:12.130Z"
   },
   {
    "duration": 6,
    "start_time": "2023-06-12T10:49:34.088Z"
   },
   {
    "duration": 10,
    "start_time": "2023-06-12T10:49:41.195Z"
   },
   {
    "duration": 78,
    "start_time": "2023-06-12T10:50:55.742Z"
   },
   {
    "duration": 11,
    "start_time": "2023-06-12T10:51:03.623Z"
   },
   {
    "duration": 13,
    "start_time": "2023-06-12T10:51:54.402Z"
   },
   {
    "duration": 64,
    "start_time": "2023-06-12T10:56:56.289Z"
   },
   {
    "duration": 71,
    "start_time": "2023-06-12T10:56:59.469Z"
   },
   {
    "duration": 11,
    "start_time": "2023-06-12T10:56:59.872Z"
   },
   {
    "duration": 71,
    "start_time": "2023-06-12T10:57:00.344Z"
   },
   {
    "duration": 14,
    "start_time": "2023-06-12T10:57:00.868Z"
   },
   {
    "duration": 452,
    "start_time": "2023-06-12T12:36:59.814Z"
   },
   {
    "duration": 61,
    "start_time": "2023-06-12T12:37:00.269Z"
   },
   {
    "duration": 65,
    "start_time": "2023-06-12T12:37:00.332Z"
   },
   {
    "duration": 77,
    "start_time": "2023-06-12T12:37:00.399Z"
   },
   {
    "duration": 42,
    "start_time": "2023-06-12T12:37:00.478Z"
   },
   {
    "duration": 103,
    "start_time": "2023-06-12T12:37:00.522Z"
   },
   {
    "duration": 12,
    "start_time": "2023-06-12T12:37:00.627Z"
   },
   {
    "duration": 167,
    "start_time": "2023-06-12T12:37:00.641Z"
   },
   {
    "duration": 11,
    "start_time": "2023-06-12T12:37:00.811Z"
   },
   {
    "duration": 71,
    "start_time": "2023-06-12T12:40:41.741Z"
   },
   {
    "duration": 4,
    "start_time": "2023-06-12T12:40:47.421Z"
   },
   {
    "duration": 17,
    "start_time": "2023-06-12T12:40:53.224Z"
   },
   {
    "duration": 271,
    "start_time": "2023-06-12T12:41:41.524Z"
   },
   {
    "duration": 462,
    "start_time": "2023-06-12T12:41:53.465Z"
   },
   {
    "duration": 4,
    "start_time": "2023-06-12T12:42:22.907Z"
   },
   {
    "duration": 3,
    "start_time": "2023-06-12T12:42:26.393Z"
   },
   {
    "duration": 272,
    "start_time": "2023-06-12T12:42:32.682Z"
   },
   {
    "duration": 20,
    "start_time": "2023-06-12T12:43:02.960Z"
   },
   {
    "duration": 638,
    "start_time": "2023-06-12T12:44:25.686Z"
   },
   {
    "duration": 623,
    "start_time": "2023-06-12T12:44:40.494Z"
   },
   {
    "duration": 326,
    "start_time": "2023-06-12T12:44:58.224Z"
   },
   {
    "duration": 8,
    "start_time": "2023-06-12T12:45:07.842Z"
   },
   {
    "duration": 5,
    "start_time": "2023-06-12T12:45:16.217Z"
   },
   {
    "duration": 17,
    "start_time": "2023-06-12T12:45:24.306Z"
   },
   {
    "duration": 5,
    "start_time": "2023-06-12T12:45:33.843Z"
   },
   {
    "duration": 12,
    "start_time": "2023-06-12T12:45:35.037Z"
   },
   {
    "duration": 321,
    "start_time": "2023-06-12T12:45:40.710Z"
   },
   {
    "duration": 6,
    "start_time": "2023-06-12T12:48:10.385Z"
   },
   {
    "duration": 15,
    "start_time": "2023-06-12T12:48:18.924Z"
   },
   {
    "duration": 5,
    "start_time": "2023-06-12T12:48:30.924Z"
   },
   {
    "duration": 7,
    "start_time": "2023-06-12T12:48:32.011Z"
   },
   {
    "duration": 13,
    "start_time": "2023-06-12T12:48:34.342Z"
   },
   {
    "duration": 664,
    "start_time": "2023-06-12T12:48:56.113Z"
   },
   {
    "duration": 29,
    "start_time": "2023-06-12T12:48:56.780Z"
   },
   {
    "duration": 25,
    "start_time": "2023-06-12T12:48:56.822Z"
   },
   {
    "duration": 16,
    "start_time": "2023-06-12T12:48:56.849Z"
   },
   {
    "duration": 13,
    "start_time": "2023-06-12T12:48:56.867Z"
   },
   {
    "duration": 24,
    "start_time": "2023-06-12T12:48:56.881Z"
   },
   {
    "duration": 12,
    "start_time": "2023-06-12T12:48:56.907Z"
   },
   {
    "duration": 25,
    "start_time": "2023-06-12T12:48:56.921Z"
   },
   {
    "duration": 53,
    "start_time": "2023-06-12T12:48:56.948Z"
   },
   {
    "duration": 16,
    "start_time": "2023-06-12T12:48:57.003Z"
   },
   {
    "duration": 18,
    "start_time": "2023-06-12T12:48:57.021Z"
   },
   {
    "duration": 12,
    "start_time": "2023-06-12T12:48:57.042Z"
   },
   {
    "duration": 8,
    "start_time": "2023-06-12T12:52:39.970Z"
   },
   {
    "duration": 4,
    "start_time": "2023-06-12T12:56:19.655Z"
   },
   {
    "duration": 100,
    "start_time": "2023-06-12T12:56:32.203Z"
   },
   {
    "duration": 270,
    "start_time": "2023-06-12T12:58:45.462Z"
   },
   {
    "duration": 18,
    "start_time": "2023-06-12T12:59:28.145Z"
   },
   {
    "duration": 156,
    "start_time": "2023-06-12T13:01:39.157Z"
   },
   {
    "duration": 13,
    "start_time": "2023-06-12T13:01:48.335Z"
   },
   {
    "duration": 7,
    "start_time": "2023-06-12T13:15:28.683Z"
   },
   {
    "duration": 17,
    "start_time": "2023-06-12T13:15:36.261Z"
   },
   {
    "duration": 21,
    "start_time": "2023-06-12T13:18:17.966Z"
   },
   {
    "duration": 975,
    "start_time": "2023-06-12T13:23:25.158Z"
   },
   {
    "duration": 279,
    "start_time": "2023-06-12T13:23:39.385Z"
   },
   {
    "duration": 21,
    "start_time": "2023-06-12T13:31:05.561Z"
   },
   {
    "duration": 205,
    "start_time": "2023-06-12T13:31:20.470Z"
   },
   {
    "duration": 180,
    "start_time": "2023-06-12T13:35:15.456Z"
   },
   {
    "duration": 427,
    "start_time": "2023-06-12T13:40:11.258Z"
   },
   {
    "duration": 1115,
    "start_time": "2023-06-12T13:49:01.376Z"
   },
   {
    "duration": 10,
    "start_time": "2023-06-12T13:49:15.609Z"
   },
   {
    "duration": 10,
    "start_time": "2023-06-12T13:49:57.917Z"
   },
   {
    "duration": 202,
    "start_time": "2023-06-12T13:50:03.579Z"
   },
   {
    "duration": 14,
    "start_time": "2023-06-12T13:50:07.053Z"
   },
   {
    "duration": 222,
    "start_time": "2023-06-12T13:50:31.159Z"
   },
   {
    "duration": 280,
    "start_time": "2023-06-12T13:50:46.189Z"
   },
   {
    "duration": 17,
    "start_time": "2023-06-12T13:54:43.699Z"
   },
   {
    "duration": 176,
    "start_time": "2023-06-12T13:56:00.842Z"
   },
   {
    "duration": 342,
    "start_time": "2023-06-12T13:56:12.409Z"
   },
   {
    "duration": 888,
    "start_time": "2023-06-12T15:51:12.881Z"
   },
   {
    "duration": 62,
    "start_time": "2023-06-12T15:51:13.772Z"
   },
   {
    "duration": 19,
    "start_time": "2023-06-12T15:51:13.836Z"
   },
   {
    "duration": 70,
    "start_time": "2023-06-12T15:51:13.859Z"
   },
   {
    "duration": 27,
    "start_time": "2023-06-12T15:51:13.931Z"
   },
   {
    "duration": 133,
    "start_time": "2023-06-12T15:51:13.960Z"
   },
   {
    "duration": 16,
    "start_time": "2023-06-12T15:51:14.096Z"
   },
   {
    "duration": 75,
    "start_time": "2023-06-12T15:51:14.115Z"
   },
   {
    "duration": 136,
    "start_time": "2023-06-12T15:51:14.192Z"
   },
   {
    "duration": 11,
    "start_time": "2023-06-12T15:51:14.330Z"
   },
   {
    "duration": 72,
    "start_time": "2023-06-12T15:51:14.343Z"
   },
   {
    "duration": 49,
    "start_time": "2023-06-12T15:51:14.417Z"
   },
   {
    "duration": 19,
    "start_time": "2023-06-12T15:51:14.481Z"
   },
   {
    "duration": 234,
    "start_time": "2023-06-12T15:51:14.502Z"
   },
   {
    "duration": 25,
    "start_time": "2023-06-12T15:51:14.738Z"
   },
   {
    "duration": 210,
    "start_time": "2023-06-12T15:51:14.765Z"
   },
   {
    "duration": 15,
    "start_time": "2023-06-12T15:51:14.977Z"
   },
   {
    "duration": 98,
    "start_time": "2023-06-12T15:51:14.995Z"
   },
   {
    "duration": 314,
    "start_time": "2023-06-12T15:51:15.096Z"
   },
   {
    "duration": 212,
    "start_time": "2023-06-12T15:51:15.412Z"
   },
   {
    "duration": 346,
    "start_time": "2023-06-12T15:51:15.626Z"
   },
   {
    "duration": 299,
    "start_time": "2023-06-12T15:51:15.980Z"
   },
   {
    "duration": 19,
    "start_time": "2023-06-12T15:51:16.281Z"
   },
   {
    "duration": 390,
    "start_time": "2023-06-12T15:51:16.301Z"
   },
   {
    "duration": 122,
    "start_time": "2023-06-12T15:52:12.109Z"
   },
   {
    "duration": 608,
    "start_time": "2023-06-12T15:52:54.214Z"
   },
   {
    "duration": 10,
    "start_time": "2023-06-12T15:53:31.239Z"
   },
   {
    "duration": 10,
    "start_time": "2023-06-12T15:57:39.742Z"
   },
   {
    "duration": 13,
    "start_time": "2023-06-12T15:57:47.067Z"
   },
   {
    "duration": 175,
    "start_time": "2023-06-12T15:57:58.499Z"
   },
   {
    "duration": 6,
    "start_time": "2023-06-12T15:58:25.284Z"
   },
   {
    "duration": 10,
    "start_time": "2023-06-12T15:59:24.190Z"
   },
   {
    "duration": 165,
    "start_time": "2023-06-12T15:59:33.622Z"
   },
   {
    "duration": 165,
    "start_time": "2023-06-12T16:00:00.152Z"
   },
   {
    "duration": 10,
    "start_time": "2023-06-12T16:00:16.664Z"
   },
   {
    "duration": 9,
    "start_time": "2023-06-12T16:49:03.920Z"
   },
   {
    "duration": 14,
    "start_time": "2023-06-12T16:49:59.819Z"
   },
   {
    "duration": 150,
    "start_time": "2023-06-12T16:50:54.891Z"
   },
   {
    "duration": 11,
    "start_time": "2023-06-12T16:50:56.685Z"
   },
   {
    "duration": 25,
    "start_time": "2023-06-12T16:52:00.518Z"
   },
   {
    "duration": 12,
    "start_time": "2023-06-12T16:52:09.752Z"
   },
   {
    "duration": 12,
    "start_time": "2023-06-12T16:52:15.742Z"
   },
   {
    "duration": 461,
    "start_time": "2023-06-12T16:53:41.426Z"
   },
   {
    "duration": 451,
    "start_time": "2023-06-12T16:53:50.390Z"
   },
   {
    "duration": 5844,
    "start_time": "2023-06-17T18:17:30.569Z"
   },
   {
    "duration": 177,
    "start_time": "2023-06-17T18:17:36.423Z"
   },
   {
    "duration": 22,
    "start_time": "2023-06-17T18:17:36.605Z"
   },
   {
    "duration": 25,
    "start_time": "2023-06-17T18:17:36.632Z"
   },
   {
    "duration": 16,
    "start_time": "2023-06-17T18:17:36.667Z"
   },
   {
    "duration": 92,
    "start_time": "2023-06-17T18:17:36.685Z"
   },
   {
    "duration": 15,
    "start_time": "2023-06-17T18:17:36.779Z"
   },
   {
    "duration": 14,
    "start_time": "2023-06-17T18:17:36.796Z"
   },
   {
    "duration": 119,
    "start_time": "2023-06-17T18:17:36.812Z"
   },
   {
    "duration": 16,
    "start_time": "2023-06-17T18:17:36.933Z"
   },
   {
    "duration": 8,
    "start_time": "2023-06-17T18:17:36.952Z"
   },
   {
    "duration": 9,
    "start_time": "2023-06-17T18:17:36.963Z"
   },
   {
    "duration": 13,
    "start_time": "2023-06-17T18:17:36.975Z"
   },
   {
    "duration": 263,
    "start_time": "2023-06-17T18:17:36.992Z"
   },
   {
    "duration": 30,
    "start_time": "2023-06-17T18:17:37.262Z"
   },
   {
    "duration": 172,
    "start_time": "2023-06-17T18:17:37.295Z"
   },
   {
    "duration": 12,
    "start_time": "2023-06-17T18:17:37.468Z"
   },
   {
    "duration": 67,
    "start_time": "2023-06-17T18:17:37.482Z"
   },
   {
    "duration": 425,
    "start_time": "2023-06-17T18:17:37.551Z"
   },
   {
    "duration": 222,
    "start_time": "2023-06-17T18:17:37.978Z"
   },
   {
    "duration": 382,
    "start_time": "2023-06-17T18:17:38.203Z"
   },
   {
    "duration": 290,
    "start_time": "2023-06-17T18:17:38.590Z"
   },
   {
    "duration": 22,
    "start_time": "2023-06-17T18:17:38.882Z"
   },
   {
    "duration": 341,
    "start_time": "2023-06-17T18:17:38.905Z"
   },
   {
    "duration": 13,
    "start_time": "2023-06-17T18:17:39.247Z"
   },
   {
    "duration": 189,
    "start_time": "2023-06-17T18:17:39.262Z"
   },
   {
    "duration": 9,
    "start_time": "2023-06-17T18:17:39.456Z"
   },
   {
    "duration": 193,
    "start_time": "2023-06-17T18:17:39.468Z"
   },
   {
    "duration": 5,
    "start_time": "2023-06-17T18:17:39.663Z"
   },
   {
    "duration": 280,
    "start_time": "2023-06-17T18:17:39.671Z"
   },
   {
    "duration": 32,
    "start_time": "2023-06-17T18:17:39.954Z"
   },
   {
    "duration": 518,
    "start_time": "2023-06-17T18:17:39.988Z"
   },
   {
    "duration": 13,
    "start_time": "2023-06-17T19:11:00.778Z"
   },
   {
    "duration": 1368,
    "start_time": "2023-06-27T17:40:56.944Z"
   },
   {
    "duration": 147,
    "start_time": "2023-06-27T17:40:58.315Z"
   },
   {
    "duration": 13,
    "start_time": "2023-06-27T17:40:58.464Z"
   },
   {
    "duration": 14,
    "start_time": "2023-06-27T17:40:58.480Z"
   },
   {
    "duration": 13,
    "start_time": "2023-06-27T17:40:58.496Z"
   },
   {
    "duration": 62,
    "start_time": "2023-06-27T17:40:58.511Z"
   },
   {
    "duration": 14,
    "start_time": "2023-06-27T17:40:58.575Z"
   },
   {
    "duration": 13,
    "start_time": "2023-06-27T17:40:58.591Z"
   },
   {
    "duration": 100,
    "start_time": "2023-06-27T17:40:58.606Z"
   },
   {
    "duration": 12,
    "start_time": "2023-06-27T17:40:58.709Z"
   },
   {
    "duration": 4,
    "start_time": "2023-06-27T17:40:58.723Z"
   },
   {
    "duration": 7,
    "start_time": "2023-06-27T17:40:58.728Z"
   },
   {
    "duration": 9,
    "start_time": "2023-06-27T17:40:58.737Z"
   },
   {
    "duration": 188,
    "start_time": "2023-06-27T17:40:58.749Z"
   },
   {
    "duration": 14,
    "start_time": "2023-06-27T17:40:58.939Z"
   },
   {
    "duration": 183,
    "start_time": "2023-06-27T17:40:58.955Z"
   },
   {
    "duration": 12,
    "start_time": "2023-06-27T17:40:59.140Z"
   },
   {
    "duration": 24,
    "start_time": "2023-06-27T17:40:59.153Z"
   },
   {
    "duration": 301,
    "start_time": "2023-06-27T17:40:59.180Z"
   },
   {
    "duration": 200,
    "start_time": "2023-06-27T17:40:59.483Z"
   },
   {
    "duration": 391,
    "start_time": "2023-06-27T17:40:59.686Z"
   },
   {
    "duration": 224,
    "start_time": "2023-06-27T17:41:00.079Z"
   },
   {
    "duration": 17,
    "start_time": "2023-06-27T17:41:00.305Z"
   },
   {
    "duration": 314,
    "start_time": "2023-06-27T17:41:00.323Z"
   },
   {
    "duration": 10,
    "start_time": "2023-06-27T17:41:00.639Z"
   },
   {
    "duration": 152,
    "start_time": "2023-06-27T17:41:00.651Z"
   },
   {
    "duration": 6,
    "start_time": "2023-06-27T17:41:00.805Z"
   },
   {
    "duration": 179,
    "start_time": "2023-06-27T17:41:00.813Z"
   },
   {
    "duration": 6,
    "start_time": "2023-06-27T17:41:00.994Z"
   },
   {
    "duration": 184,
    "start_time": "2023-06-27T17:41:01.002Z"
   },
   {
    "duration": 21,
    "start_time": "2023-06-27T17:41:01.188Z"
   },
   {
    "duration": 360,
    "start_time": "2023-06-27T17:41:01.211Z"
   },
   {
    "duration": 13,
    "start_time": "2023-06-27T17:41:01.573Z"
   },
   {
    "duration": 200,
    "start_time": "2023-06-27T17:57:44.001Z"
   },
   {
    "duration": 188,
    "start_time": "2023-06-27T17:58:42.217Z"
   },
   {
    "duration": 8,
    "start_time": "2023-06-27T18:02:46.108Z"
   },
   {
    "duration": 5,
    "start_time": "2023-06-27T18:02:56.967Z"
   },
   {
    "duration": 7,
    "start_time": "2023-06-27T18:04:17.934Z"
   },
   {
    "duration": 245,
    "start_time": "2023-06-27T18:15:44.598Z"
   },
   {
    "duration": 204,
    "start_time": "2023-06-27T18:15:50.637Z"
   },
   {
    "duration": 212,
    "start_time": "2023-06-27T18:24:47.346Z"
   },
   {
    "duration": 181,
    "start_time": "2023-06-27T18:25:33.481Z"
   },
   {
    "duration": 190,
    "start_time": "2023-06-27T18:25:38.657Z"
   },
   {
    "duration": 189,
    "start_time": "2023-06-27T18:25:52.948Z"
   },
   {
    "duration": 179,
    "start_time": "2023-06-27T18:26:06.041Z"
   },
   {
    "duration": 233,
    "start_time": "2023-06-27T18:28:33.552Z"
   },
   {
    "duration": 184,
    "start_time": "2023-06-27T18:28:42.933Z"
   },
   {
    "duration": 195,
    "start_time": "2023-06-27T18:28:47.934Z"
   },
   {
    "duration": 218,
    "start_time": "2023-06-27T18:28:52.797Z"
   },
   {
    "duration": 1410,
    "start_time": "2023-06-28T14:30:18.705Z"
   },
   {
    "duration": 139,
    "start_time": "2023-06-28T14:30:20.117Z"
   },
   {
    "duration": 14,
    "start_time": "2023-06-28T14:30:20.257Z"
   },
   {
    "duration": 13,
    "start_time": "2023-06-28T14:30:20.274Z"
   },
   {
    "duration": 15,
    "start_time": "2023-06-28T14:30:20.288Z"
   },
   {
    "duration": 66,
    "start_time": "2023-06-28T14:30:20.305Z"
   },
   {
    "duration": 12,
    "start_time": "2023-06-28T14:30:20.373Z"
   },
   {
    "duration": 46,
    "start_time": "2023-06-28T14:30:20.387Z"
   },
   {
    "duration": 115,
    "start_time": "2023-06-28T14:30:20.435Z"
   },
   {
    "duration": 11,
    "start_time": "2023-06-28T14:30:20.553Z"
   },
   {
    "duration": 26,
    "start_time": "2023-06-28T14:30:20.565Z"
   },
   {
    "duration": 27,
    "start_time": "2023-06-28T14:30:20.592Z"
   },
   {
    "duration": 19,
    "start_time": "2023-06-28T14:30:20.621Z"
   },
   {
    "duration": 192,
    "start_time": "2023-06-28T14:30:20.642Z"
   },
   {
    "duration": 12,
    "start_time": "2023-06-28T14:30:20.836Z"
   },
   {
    "duration": 138,
    "start_time": "2023-06-28T14:30:20.850Z"
   },
   {
    "duration": 11,
    "start_time": "2023-06-28T14:30:20.990Z"
   },
   {
    "duration": 17,
    "start_time": "2023-06-28T14:30:21.014Z"
   },
   {
    "duration": 276,
    "start_time": "2023-06-28T14:30:21.032Z"
   },
   {
    "duration": 205,
    "start_time": "2023-06-28T14:30:21.313Z"
   },
   {
    "duration": 349,
    "start_time": "2023-06-28T14:30:21.519Z"
   },
   {
    "duration": 208,
    "start_time": "2023-06-28T14:30:21.870Z"
   },
   {
    "duration": 15,
    "start_time": "2023-06-28T14:30:22.080Z"
   },
   {
    "duration": 306,
    "start_time": "2023-06-28T14:30:22.097Z"
   },
   {
    "duration": 13,
    "start_time": "2023-06-28T14:30:22.404Z"
   },
   {
    "duration": 141,
    "start_time": "2023-06-28T14:30:22.419Z"
   },
   {
    "duration": 5,
    "start_time": "2023-06-28T14:30:22.562Z"
   },
   {
    "duration": 153,
    "start_time": "2023-06-28T14:30:22.570Z"
   },
   {
    "duration": 5,
    "start_time": "2023-06-28T14:30:22.724Z"
   },
   {
    "duration": 155,
    "start_time": "2023-06-28T14:30:22.730Z"
   },
   {
    "duration": 26,
    "start_time": "2023-06-28T14:30:22.887Z"
   },
   {
    "duration": 350,
    "start_time": "2023-06-28T14:30:22.915Z"
   },
   {
    "duration": 12,
    "start_time": "2023-06-28T14:30:23.267Z"
   },
   {
    "duration": 190,
    "start_time": "2023-06-28T14:30:23.281Z"
   },
   {
    "duration": 148,
    "start_time": "2023-06-28T14:30:23.473Z"
   },
   {
    "duration": 7,
    "start_time": "2023-06-28T14:30:23.624Z"
   },
   {
    "duration": 122,
    "start_time": "2023-06-28T14:30:23.634Z"
   },
   {
    "duration": 0,
    "start_time": "2023-06-28T14:30:23.758Z"
   },
   {
    "duration": 16,
    "start_time": "2023-06-28T14:32:21.199Z"
   },
   {
    "duration": 13,
    "start_time": "2023-06-28T14:32:30.886Z"
   },
   {
    "duration": 18,
    "start_time": "2023-06-28T14:32:39.110Z"
   },
   {
    "duration": 12,
    "start_time": "2023-06-28T14:55:56.148Z"
   },
   {
    "duration": 13,
    "start_time": "2023-06-28T14:56:50.610Z"
   },
   {
    "duration": 15,
    "start_time": "2023-06-28T14:58:24.202Z"
   },
   {
    "duration": 12,
    "start_time": "2023-06-28T14:58:40.494Z"
   },
   {
    "duration": 7,
    "start_time": "2023-06-28T14:58:50.691Z"
   },
   {
    "duration": 8,
    "start_time": "2023-06-28T14:58:55.628Z"
   },
   {
    "duration": 7,
    "start_time": "2023-06-28T14:59:57.206Z"
   },
   {
    "duration": 8,
    "start_time": "2023-06-28T14:59:58.018Z"
   },
   {
    "duration": 199,
    "start_time": "2023-06-28T15:04:00.854Z"
   },
   {
    "duration": 116,
    "start_time": "2023-06-28T15:07:55.953Z"
   },
   {
    "duration": 5,
    "start_time": "2023-06-28T15:09:30.357Z"
   },
   {
    "duration": 12,
    "start_time": "2023-06-28T15:20:30.306Z"
   },
   {
    "duration": 1492,
    "start_time": "2023-06-28T15:20:31.494Z"
   },
   {
    "duration": 0,
    "start_time": "2023-06-28T15:20:32.988Z"
   },
   {
    "duration": 9,
    "start_time": "2023-06-28T15:20:54.614Z"
   },
   {
    "duration": 4,
    "start_time": "2023-06-28T15:20:56.432Z"
   },
   {
    "duration": 5,
    "start_time": "2023-06-28T15:21:09.545Z"
   },
   {
    "duration": 4,
    "start_time": "2023-06-28T15:21:10.297Z"
   },
   {
    "duration": 4,
    "start_time": "2023-06-28T15:21:13.040Z"
   },
   {
    "duration": 1363,
    "start_time": "2023-06-28T15:22:54.660Z"
   },
   {
    "duration": 13,
    "start_time": "2023-06-28T15:24:08.206Z"
   },
   {
    "duration": 113,
    "start_time": "2023-06-28T17:17:39.171Z"
   },
   {
    "duration": 165,
    "start_time": "2023-06-28T17:28:17.370Z"
   },
   {
    "duration": 131,
    "start_time": "2023-06-28T17:28:34.956Z"
   },
   {
    "duration": 114,
    "start_time": "2023-06-28T17:35:25.744Z"
   },
   {
    "duration": 233,
    "start_time": "2023-06-28T17:36:35.966Z"
   },
   {
    "duration": 10,
    "start_time": "2023-06-28T17:36:46.053Z"
   },
   {
    "duration": 38,
    "start_time": "2023-06-28T17:44:53.808Z"
   },
   {
    "duration": 31,
    "start_time": "2023-06-28T17:45:02.926Z"
   },
   {
    "duration": 5,
    "start_time": "2023-06-28T17:45:03.557Z"
   },
   {
    "duration": 21,
    "start_time": "2023-06-28T17:47:36.777Z"
   },
   {
    "duration": 45,
    "start_time": "2023-06-28T22:18:18.152Z"
   },
   {
    "duration": 5,
    "start_time": "2023-06-28T22:18:18.465Z"
   },
   {
    "duration": 1202,
    "start_time": "2023-06-28T22:18:23.776Z"
   },
   {
    "duration": 115,
    "start_time": "2023-06-28T22:18:24.980Z"
   },
   {
    "duration": 11,
    "start_time": "2023-06-28T22:18:25.096Z"
   },
   {
    "duration": 18,
    "start_time": "2023-06-28T22:18:25.108Z"
   },
   {
    "duration": 10,
    "start_time": "2023-06-28T22:18:25.128Z"
   },
   {
    "duration": 53,
    "start_time": "2023-06-28T22:18:25.139Z"
   },
   {
    "duration": 11,
    "start_time": "2023-06-28T22:18:25.193Z"
   },
   {
    "duration": 11,
    "start_time": "2023-06-28T22:18:25.206Z"
   },
   {
    "duration": 84,
    "start_time": "2023-06-28T22:18:25.218Z"
   },
   {
    "duration": 9,
    "start_time": "2023-06-28T22:18:25.304Z"
   },
   {
    "duration": 6,
    "start_time": "2023-06-28T22:18:25.315Z"
   },
   {
    "duration": 7,
    "start_time": "2023-06-28T22:18:25.322Z"
   },
   {
    "duration": 7,
    "start_time": "2023-06-28T22:18:25.330Z"
   },
   {
    "duration": 147,
    "start_time": "2023-06-28T22:18:25.339Z"
   },
   {
    "duration": 11,
    "start_time": "2023-06-28T22:18:25.488Z"
   },
   {
    "duration": 123,
    "start_time": "2023-06-28T22:18:25.500Z"
   },
   {
    "duration": 15,
    "start_time": "2023-06-28T22:18:25.632Z"
   },
   {
    "duration": 17,
    "start_time": "2023-06-28T22:18:25.648Z"
   },
   {
    "duration": 241,
    "start_time": "2023-06-28T22:18:25.667Z"
   },
   {
    "duration": 168,
    "start_time": "2023-06-28T22:18:25.910Z"
   },
   {
    "duration": 268,
    "start_time": "2023-06-28T22:18:26.080Z"
   },
   {
    "duration": 182,
    "start_time": "2023-06-28T22:18:26.350Z"
   },
   {
    "duration": 14,
    "start_time": "2023-06-28T22:18:26.533Z"
   },
   {
    "duration": 253,
    "start_time": "2023-06-28T22:18:26.549Z"
   },
   {
    "duration": 8,
    "start_time": "2023-06-28T22:18:26.804Z"
   },
   {
    "duration": 118,
    "start_time": "2023-06-28T22:18:26.813Z"
   },
   {
    "duration": 4,
    "start_time": "2023-06-28T22:18:26.933Z"
   },
   {
    "duration": 130,
    "start_time": "2023-06-28T22:18:26.941Z"
   },
   {
    "duration": 5,
    "start_time": "2023-06-28T22:18:27.072Z"
   },
   {
    "duration": 162,
    "start_time": "2023-06-28T22:18:27.078Z"
   },
   {
    "duration": 18,
    "start_time": "2023-06-28T22:18:27.242Z"
   },
   {
    "duration": 336,
    "start_time": "2023-06-28T22:18:27.261Z"
   },
   {
    "duration": 10,
    "start_time": "2023-06-28T22:18:27.599Z"
   },
   {
    "duration": 196,
    "start_time": "2023-06-28T22:18:27.610Z"
   },
   {
    "duration": 131,
    "start_time": "2023-06-28T22:18:27.808Z"
   },
   {
    "duration": 5,
    "start_time": "2023-06-28T22:18:27.941Z"
   },
   {
    "duration": 13,
    "start_time": "2023-06-28T22:18:27.947Z"
   },
   {
    "duration": 13,
    "start_time": "2023-06-28T22:18:27.962Z"
   },
   {
    "duration": 176,
    "start_time": "2023-06-28T22:18:27.976Z"
   },
   {
    "duration": 112,
    "start_time": "2023-06-28T22:18:28.154Z"
   },
   {
    "duration": 5,
    "start_time": "2023-06-28T22:18:28.268Z"
   },
   {
    "duration": 11,
    "start_time": "2023-06-28T22:18:28.274Z"
   },
   {
    "duration": 17,
    "start_time": "2023-06-28T22:18:28.286Z"
   },
   {
    "duration": 19,
    "start_time": "2023-06-28T22:18:28.305Z"
   },
   {
    "duration": 194,
    "start_time": "2023-06-28T22:18:28.326Z"
   },
   {
    "duration": 12,
    "start_time": "2023-06-28T22:18:28.522Z"
   },
   {
    "duration": 40,
    "start_time": "2023-06-28T22:18:28.536Z"
   },
   {
    "duration": 4,
    "start_time": "2023-06-28T22:18:28.577Z"
   },
   {
    "duration": 14,
    "start_time": "2023-06-28T22:18:28.583Z"
   },
   {
    "duration": 7,
    "start_time": "2023-06-28T22:25:27.610Z"
   },
   {
    "duration": 1283,
    "start_time": "2023-06-29T05:47:51.427Z"
   },
   {
    "duration": 125,
    "start_time": "2023-06-29T05:47:52.712Z"
   },
   {
    "duration": 10,
    "start_time": "2023-06-29T05:47:52.838Z"
   },
   {
    "duration": 26,
    "start_time": "2023-06-29T05:47:52.850Z"
   },
   {
    "duration": 30,
    "start_time": "2023-06-29T05:47:52.878Z"
   },
   {
    "duration": 71,
    "start_time": "2023-06-29T05:47:52.909Z"
   },
   {
    "duration": 9,
    "start_time": "2023-06-29T05:47:52.982Z"
   },
   {
    "duration": 16,
    "start_time": "2023-06-29T05:47:52.993Z"
   },
   {
    "duration": 89,
    "start_time": "2023-06-29T05:47:53.011Z"
   },
   {
    "duration": 10,
    "start_time": "2023-06-29T05:47:53.101Z"
   },
   {
    "duration": 38,
    "start_time": "2023-06-29T05:47:53.112Z"
   },
   {
    "duration": 19,
    "start_time": "2023-06-29T05:47:53.151Z"
   },
   {
    "duration": 30,
    "start_time": "2023-06-29T05:47:53.171Z"
   },
   {
    "duration": 184,
    "start_time": "2023-06-29T05:47:53.204Z"
   },
   {
    "duration": 9,
    "start_time": "2023-06-29T05:47:53.389Z"
   },
   {
    "duration": 121,
    "start_time": "2023-06-29T05:47:53.400Z"
   },
   {
    "duration": 10,
    "start_time": "2023-06-29T05:47:53.522Z"
   },
   {
    "duration": 43,
    "start_time": "2023-06-29T05:47:53.533Z"
   },
   {
    "duration": 243,
    "start_time": "2023-06-29T05:47:53.577Z"
   },
   {
    "duration": 168,
    "start_time": "2023-06-29T05:47:53.821Z"
   },
   {
    "duration": 306,
    "start_time": "2023-06-29T05:47:53.990Z"
   },
   {
    "duration": 172,
    "start_time": "2023-06-29T05:47:54.298Z"
   },
   {
    "duration": 16,
    "start_time": "2023-06-29T05:47:54.471Z"
   },
   {
    "duration": 247,
    "start_time": "2023-06-29T05:47:54.488Z"
   },
   {
    "duration": 6,
    "start_time": "2023-06-29T05:47:54.737Z"
   },
   {
    "duration": 123,
    "start_time": "2023-06-29T05:47:54.744Z"
   },
   {
    "duration": 5,
    "start_time": "2023-06-29T05:47:54.874Z"
   },
   {
    "duration": 124,
    "start_time": "2023-06-29T05:47:54.880Z"
   },
   {
    "duration": 4,
    "start_time": "2023-06-29T05:47:55.006Z"
   },
   {
    "duration": 142,
    "start_time": "2023-06-29T05:47:55.012Z"
   },
   {
    "duration": 27,
    "start_time": "2023-06-29T05:47:55.156Z"
   },
   {
    "duration": 342,
    "start_time": "2023-06-29T05:47:55.184Z"
   },
   {
    "duration": 9,
    "start_time": "2023-06-29T05:47:55.528Z"
   },
   {
    "duration": 156,
    "start_time": "2023-06-29T05:47:55.539Z"
   },
   {
    "duration": 119,
    "start_time": "2023-06-29T05:47:55.697Z"
   },
   {
    "duration": 5,
    "start_time": "2023-06-29T05:47:55.818Z"
   },
   {
    "duration": 18,
    "start_time": "2023-06-29T05:47:55.824Z"
   },
   {
    "duration": 18,
    "start_time": "2023-06-29T05:47:55.843Z"
   },
   {
    "duration": 175,
    "start_time": "2023-06-29T05:47:55.862Z"
   },
   {
    "duration": 109,
    "start_time": "2023-06-29T05:47:56.038Z"
   },
   {
    "duration": 4,
    "start_time": "2023-06-29T05:47:56.150Z"
   },
   {
    "duration": 22,
    "start_time": "2023-06-29T05:47:56.155Z"
   },
   {
    "duration": 21,
    "start_time": "2023-06-29T05:47:56.178Z"
   },
   {
    "duration": 25,
    "start_time": "2023-06-29T05:47:56.200Z"
   },
   {
    "duration": 224,
    "start_time": "2023-06-29T05:47:56.227Z"
   },
   {
    "duration": 7,
    "start_time": "2023-06-29T05:47:56.453Z"
   },
   {
    "duration": 50,
    "start_time": "2023-06-29T05:47:56.461Z"
   },
   {
    "duration": 13,
    "start_time": "2023-06-29T05:47:56.512Z"
   },
   {
    "duration": 26,
    "start_time": "2023-06-29T05:47:56.526Z"
   },
   {
    "duration": 196,
    "start_time": "2023-06-29T06:00:53.994Z"
   },
   {
    "duration": 108,
    "start_time": "2023-06-29T06:01:22.235Z"
   },
   {
    "duration": 27,
    "start_time": "2023-06-29T06:01:30.174Z"
   },
   {
    "duration": 341,
    "start_time": "2023-06-29T06:01:42.066Z"
   },
   {
    "duration": 226,
    "start_time": "2023-06-29T06:01:55.174Z"
   },
   {
    "duration": 239,
    "start_time": "2023-06-29T06:02:03.600Z"
   },
   {
    "duration": 250,
    "start_time": "2023-06-29T06:02:09.952Z"
   },
   {
    "duration": 215,
    "start_time": "2023-06-29T06:10:40.427Z"
   },
   {
    "duration": 353,
    "start_time": "2023-06-29T06:48:46.989Z"
   },
   {
    "duration": 312,
    "start_time": "2023-06-29T06:48:50.837Z"
   },
   {
    "duration": 228,
    "start_time": "2023-06-29T06:50:11.754Z"
   },
   {
    "duration": 341,
    "start_time": "2023-06-29T07:02:58.575Z"
   },
   {
    "duration": 123,
    "start_time": "2023-06-29T07:13:42.445Z"
   },
   {
    "duration": 227,
    "start_time": "2023-06-29T07:23:25.603Z"
   },
   {
    "duration": 133,
    "start_time": "2023-06-29T07:23:28.307Z"
   },
   {
    "duration": 5,
    "start_time": "2023-06-29T07:41:31.333Z"
   },
   {
    "duration": 133,
    "start_time": "2023-06-29T07:43:01.398Z"
   },
   {
    "duration": 1148,
    "start_time": "2023-06-29T09:34:18.039Z"
   },
   {
    "duration": 125,
    "start_time": "2023-06-29T09:34:19.189Z"
   },
   {
    "duration": 12,
    "start_time": "2023-06-29T09:34:19.316Z"
   },
   {
    "duration": 11,
    "start_time": "2023-06-29T09:34:19.330Z"
   },
   {
    "duration": 10,
    "start_time": "2023-06-29T09:34:19.343Z"
   },
   {
    "duration": 57,
    "start_time": "2023-06-29T09:34:19.354Z"
   },
   {
    "duration": 12,
    "start_time": "2023-06-29T09:34:19.413Z"
   },
   {
    "duration": 9,
    "start_time": "2023-06-29T09:34:19.426Z"
   },
   {
    "duration": 149,
    "start_time": "2023-06-29T09:34:19.437Z"
   },
   {
    "duration": 15,
    "start_time": "2023-06-29T09:34:19.589Z"
   },
   {
    "duration": 7,
    "start_time": "2023-06-29T09:34:19.612Z"
   },
   {
    "duration": 7,
    "start_time": "2023-06-29T09:34:19.620Z"
   },
   {
    "duration": 11,
    "start_time": "2023-06-29T09:34:19.628Z"
   },
   {
    "duration": 169,
    "start_time": "2023-06-29T09:34:19.640Z"
   },
   {
    "duration": 10,
    "start_time": "2023-06-29T09:34:19.814Z"
   },
   {
    "duration": 128,
    "start_time": "2023-06-29T09:34:19.826Z"
   },
   {
    "duration": 21,
    "start_time": "2023-06-29T09:34:19.955Z"
   },
   {
    "duration": 303,
    "start_time": "2023-06-29T09:34:19.977Z"
   },
   {
    "duration": 205,
    "start_time": "2023-06-29T09:34:20.283Z"
   },
   {
    "duration": 363,
    "start_time": "2023-06-29T09:34:20.489Z"
   },
   {
    "duration": 232,
    "start_time": "2023-06-29T09:34:20.853Z"
   },
   {
    "duration": 14,
    "start_time": "2023-06-29T09:34:21.086Z"
   },
   {
    "duration": 336,
    "start_time": "2023-06-29T09:34:21.101Z"
   },
   {
    "duration": 8,
    "start_time": "2023-06-29T09:34:21.440Z"
   },
   {
    "duration": 123,
    "start_time": "2023-06-29T09:34:21.449Z"
   },
   {
    "duration": 5,
    "start_time": "2023-06-29T09:34:21.574Z"
   },
   {
    "duration": 150,
    "start_time": "2023-06-29T09:34:21.581Z"
   },
   {
    "duration": 5,
    "start_time": "2023-06-29T09:34:21.736Z"
   },
   {
    "duration": 153,
    "start_time": "2023-06-29T09:34:21.743Z"
   },
   {
    "duration": 22,
    "start_time": "2023-06-29T09:34:21.898Z"
   },
   {
    "duration": 356,
    "start_time": "2023-06-29T09:34:21.921Z"
   },
   {
    "duration": 9,
    "start_time": "2023-06-29T09:34:22.279Z"
   },
   {
    "duration": 145,
    "start_time": "2023-06-29T09:34:22.306Z"
   },
   {
    "duration": 119,
    "start_time": "2023-06-29T09:34:22.453Z"
   },
   {
    "duration": 5,
    "start_time": "2023-06-29T09:34:22.574Z"
   },
   {
    "duration": 7,
    "start_time": "2023-06-29T09:34:22.580Z"
   },
   {
    "duration": 38,
    "start_time": "2023-06-29T09:34:22.588Z"
   },
   {
    "duration": 191,
    "start_time": "2023-06-29T09:34:22.630Z"
   },
   {
    "duration": 107,
    "start_time": "2023-06-29T09:34:22.827Z"
   },
   {
    "duration": 4,
    "start_time": "2023-06-29T09:34:22.936Z"
   },
   {
    "duration": 14,
    "start_time": "2023-06-29T09:34:22.942Z"
   },
   {
    "duration": 8,
    "start_time": "2023-06-29T09:34:22.958Z"
   },
   {
    "duration": 14,
    "start_time": "2023-06-29T09:34:22.968Z"
   },
   {
    "duration": 197,
    "start_time": "2023-06-29T09:34:22.984Z"
   },
   {
    "duration": 6,
    "start_time": "2023-06-29T09:34:23.183Z"
   },
   {
    "duration": 41,
    "start_time": "2023-06-29T09:34:23.190Z"
   },
   {
    "duration": 15,
    "start_time": "2023-06-29T09:34:23.233Z"
   },
   {
    "duration": 17,
    "start_time": "2023-06-29T09:34:23.249Z"
   },
   {
    "duration": 7,
    "start_time": "2023-06-29T09:50:07.700Z"
   },
   {
    "duration": 4,
    "start_time": "2023-06-29T09:50:12.092Z"
   },
   {
    "duration": 4,
    "start_time": "2023-06-29T09:50:14.817Z"
   },
   {
    "duration": 9,
    "start_time": "2023-06-29T09:53:13.246Z"
   },
   {
    "duration": 26,
    "start_time": "2023-06-29T09:54:16.898Z"
   },
   {
    "duration": 1019,
    "start_time": "2023-06-29T12:10:51.873Z"
   },
   {
    "duration": 50,
    "start_time": "2023-06-29T12:10:52.894Z"
   },
   {
    "duration": 16,
    "start_time": "2023-06-29T12:10:52.945Z"
   },
   {
    "duration": 12,
    "start_time": "2023-06-29T12:10:52.963Z"
   },
   {
    "duration": 14,
    "start_time": "2023-06-29T12:10:52.976Z"
   },
   {
    "duration": 38,
    "start_time": "2023-06-29T12:10:52.991Z"
   },
   {
    "duration": 9,
    "start_time": "2023-06-29T12:10:53.031Z"
   },
   {
    "duration": 8,
    "start_time": "2023-06-29T12:10:53.042Z"
   },
   {
    "duration": 62,
    "start_time": "2023-06-29T12:10:53.051Z"
   },
   {
    "duration": 9,
    "start_time": "2023-06-29T12:10:53.116Z"
   },
   {
    "duration": 19,
    "start_time": "2023-06-29T12:10:53.126Z"
   },
   {
    "duration": 18,
    "start_time": "2023-06-29T12:10:53.146Z"
   },
   {
    "duration": 13,
    "start_time": "2023-06-29T12:10:53.165Z"
   },
   {
    "duration": 204,
    "start_time": "2023-06-29T12:10:53.179Z"
   },
   {
    "duration": 9,
    "start_time": "2023-06-29T12:10:53.385Z"
   },
   {
    "duration": 140,
    "start_time": "2023-06-29T12:10:53.396Z"
   },
   {
    "duration": 23,
    "start_time": "2023-06-29T12:10:53.537Z"
   },
   {
    "duration": 323,
    "start_time": "2023-06-29T12:10:53.562Z"
   },
   {
    "duration": 197,
    "start_time": "2023-06-29T12:10:53.887Z"
   },
   {
    "duration": 322,
    "start_time": "2023-06-29T12:10:54.087Z"
   },
   {
    "duration": 230,
    "start_time": "2023-06-29T12:10:54.410Z"
   },
   {
    "duration": 11,
    "start_time": "2023-06-29T12:10:54.642Z"
   },
   {
    "duration": 311,
    "start_time": "2023-06-29T12:10:54.654Z"
   },
   {
    "duration": 7,
    "start_time": "2023-06-29T12:10:54.966Z"
   },
   {
    "duration": 137,
    "start_time": "2023-06-29T12:10:54.975Z"
   },
   {
    "duration": 7,
    "start_time": "2023-06-29T12:10:55.114Z"
   },
   {
    "duration": 158,
    "start_time": "2023-06-29T12:10:55.122Z"
   },
   {
    "duration": 4,
    "start_time": "2023-06-29T12:10:55.283Z"
   },
   {
    "duration": 169,
    "start_time": "2023-06-29T12:10:55.288Z"
   },
   {
    "duration": 16,
    "start_time": "2023-06-29T12:10:55.459Z"
   },
   {
    "duration": 339,
    "start_time": "2023-06-29T12:10:55.479Z"
   },
   {
    "duration": 10,
    "start_time": "2023-06-29T12:10:55.819Z"
   },
   {
    "duration": 13,
    "start_time": "2023-06-29T12:10:55.831Z"
   },
   {
    "duration": 16,
    "start_time": "2023-06-29T12:10:55.846Z"
   },
   {
    "duration": 4,
    "start_time": "2023-06-29T12:10:55.864Z"
   },
   {
    "duration": 225,
    "start_time": "2023-06-29T12:10:55.870Z"
   },
   {
    "duration": 16,
    "start_time": "2023-06-29T12:10:56.106Z"
   },
   {
    "duration": 57,
    "start_time": "2023-06-29T12:10:56.124Z"
   },
   {
    "duration": 18,
    "start_time": "2023-06-29T12:10:56.183Z"
   },
   {
    "duration": 1084,
    "start_time": "2023-06-30T08:14:01.216Z"
   },
   {
    "duration": 130,
    "start_time": "2023-06-30T08:14:02.302Z"
   },
   {
    "duration": 11,
    "start_time": "2023-06-30T08:14:02.434Z"
   },
   {
    "duration": 39,
    "start_time": "2023-06-30T08:14:02.447Z"
   },
   {
    "duration": 11,
    "start_time": "2023-06-30T08:14:02.487Z"
   },
   {
    "duration": 60,
    "start_time": "2023-06-30T08:14:02.500Z"
   },
   {
    "duration": 11,
    "start_time": "2023-06-30T08:14:02.561Z"
   },
   {
    "duration": 12,
    "start_time": "2023-06-30T08:14:02.573Z"
   },
   {
    "duration": 88,
    "start_time": "2023-06-30T08:14:02.586Z"
   },
   {
    "duration": 11,
    "start_time": "2023-06-30T08:14:02.676Z"
   },
   {
    "duration": 6,
    "start_time": "2023-06-30T08:14:02.688Z"
   },
   {
    "duration": 19,
    "start_time": "2023-06-30T08:14:02.695Z"
   },
   {
    "duration": 7,
    "start_time": "2023-06-30T08:14:02.716Z"
   },
   {
    "duration": 157,
    "start_time": "2023-06-30T08:14:02.724Z"
   },
   {
    "duration": 9,
    "start_time": "2023-06-30T08:14:02.883Z"
   },
   {
    "duration": 117,
    "start_time": "2023-06-30T08:14:02.894Z"
   },
   {
    "duration": 13,
    "start_time": "2023-06-30T08:14:03.013Z"
   },
   {
    "duration": 284,
    "start_time": "2023-06-30T08:14:03.028Z"
   },
   {
    "duration": 198,
    "start_time": "2023-06-30T08:14:03.314Z"
   },
   {
    "duration": 346,
    "start_time": "2023-06-30T08:14:03.514Z"
   },
   {
    "duration": 227,
    "start_time": "2023-06-30T08:14:03.862Z"
   },
   {
    "duration": 10,
    "start_time": "2023-06-30T08:14:04.091Z"
   },
   {
    "duration": 283,
    "start_time": "2023-06-30T08:14:04.103Z"
   },
   {
    "duration": 6,
    "start_time": "2023-06-30T08:14:04.388Z"
   },
   {
    "duration": 109,
    "start_time": "2023-06-30T08:14:04.396Z"
   },
   {
    "duration": 4,
    "start_time": "2023-06-30T08:14:04.507Z"
   },
   {
    "duration": 139,
    "start_time": "2023-06-30T08:14:04.512Z"
   },
   {
    "duration": 5,
    "start_time": "2023-06-30T08:14:04.654Z"
   },
   {
    "duration": 150,
    "start_time": "2023-06-30T08:14:04.660Z"
   },
   {
    "duration": 17,
    "start_time": "2023-06-30T08:14:04.811Z"
   },
   {
    "duration": 326,
    "start_time": "2023-06-30T08:14:04.829Z"
   },
   {
    "duration": 9,
    "start_time": "2023-06-30T08:14:05.156Z"
   },
   {
    "duration": 14,
    "start_time": "2023-06-30T08:14:05.174Z"
   },
   {
    "duration": 22,
    "start_time": "2023-06-30T08:14:05.189Z"
   },
   {
    "duration": 13,
    "start_time": "2023-06-30T08:14:05.213Z"
   },
   {
    "duration": 202,
    "start_time": "2023-06-30T08:14:05.227Z"
   },
   {
    "duration": 6,
    "start_time": "2023-06-30T08:14:05.431Z"
   },
   {
    "duration": 50,
    "start_time": "2023-06-30T08:14:05.438Z"
   },
   {
    "duration": 18,
    "start_time": "2023-06-30T08:14:05.490Z"
   },
   {
    "duration": 7,
    "start_time": "2023-06-30T08:15:47.033Z"
   },
   {
    "duration": 10,
    "start_time": "2023-06-30T08:21:47.249Z"
   },
   {
    "duration": 12,
    "start_time": "2023-06-30T08:22:03.866Z"
   },
   {
    "duration": 12,
    "start_time": "2023-06-30T08:23:22.048Z"
   },
   {
    "duration": 10,
    "start_time": "2023-06-30T08:36:46.886Z"
   },
   {
    "duration": 11,
    "start_time": "2023-06-30T08:38:00.902Z"
   },
   {
    "duration": 13,
    "start_time": "2023-06-30T08:38:27.327Z"
   },
   {
    "duration": 5,
    "start_time": "2023-06-30T08:41:27.136Z"
   },
   {
    "duration": 2685,
    "start_time": "2023-06-30T08:42:54.409Z"
   },
   {
    "duration": 140,
    "start_time": "2023-06-30T08:43:00.895Z"
   },
   {
    "duration": 74,
    "start_time": "2023-06-30T08:43:10.416Z"
   },
   {
    "duration": 12,
    "start_time": "2023-06-30T08:44:03.219Z"
   },
   {
    "duration": 190,
    "start_time": "2023-06-30T08:44:07.188Z"
   },
   {
    "duration": 23,
    "start_time": "2023-06-30T08:54:47.888Z"
   },
   {
    "duration": 27,
    "start_time": "2023-06-30T08:55:06.199Z"
   },
   {
    "duration": 24,
    "start_time": "2023-06-30T08:55:20.320Z"
   },
   {
    "duration": 11,
    "start_time": "2023-06-30T08:56:37.832Z"
   },
   {
    "duration": 11,
    "start_time": "2023-06-30T08:56:56.804Z"
   },
   {
    "duration": 12,
    "start_time": "2023-06-30T08:58:59.159Z"
   },
   {
    "duration": 14,
    "start_time": "2023-06-30T08:59:21.703Z"
   },
   {
    "duration": 10,
    "start_time": "2023-06-30T09:00:58.088Z"
   },
   {
    "duration": 4,
    "start_time": "2023-06-30T09:01:03.999Z"
   },
   {
    "duration": 4,
    "start_time": "2023-06-30T09:01:12.616Z"
   },
   {
    "duration": 54,
    "start_time": "2023-06-30T09:02:26.181Z"
   },
   {
    "duration": 14,
    "start_time": "2023-06-30T09:02:30.973Z"
   },
   {
    "duration": 10,
    "start_time": "2023-06-30T09:15:38.181Z"
   },
   {
    "duration": 7,
    "start_time": "2023-06-30T09:17:04.433Z"
   },
   {
    "duration": 9,
    "start_time": "2023-06-30T09:17:32.065Z"
   },
   {
    "duration": 7,
    "start_time": "2023-06-30T09:17:57.404Z"
   },
   {
    "duration": 11,
    "start_time": "2023-06-30T09:23:03.794Z"
   },
   {
    "duration": 12,
    "start_time": "2023-06-30T09:23:13.139Z"
   },
   {
    "duration": 10,
    "start_time": "2023-06-30T09:24:36.240Z"
   },
   {
    "duration": 6,
    "start_time": "2023-06-30T09:25:00.659Z"
   },
   {
    "duration": 9,
    "start_time": "2023-06-30T09:25:24.115Z"
   },
   {
    "duration": 4,
    "start_time": "2023-06-30T09:25:26.191Z"
   },
   {
    "duration": 1176,
    "start_time": "2023-06-30T11:05:39.265Z"
   },
   {
    "duration": 129,
    "start_time": "2023-06-30T11:05:40.444Z"
   },
   {
    "duration": 12,
    "start_time": "2023-06-30T11:05:40.575Z"
   },
   {
    "duration": 17,
    "start_time": "2023-06-30T11:05:40.589Z"
   },
   {
    "duration": 11,
    "start_time": "2023-06-30T11:05:40.608Z"
   },
   {
    "duration": 53,
    "start_time": "2023-06-30T11:05:40.621Z"
   },
   {
    "duration": 11,
    "start_time": "2023-06-30T11:05:40.676Z"
   },
   {
    "duration": 7,
    "start_time": "2023-06-30T11:05:40.689Z"
   },
   {
    "duration": 108,
    "start_time": "2023-06-30T11:05:40.698Z"
   },
   {
    "duration": 11,
    "start_time": "2023-06-30T11:05:40.808Z"
   },
   {
    "duration": 7,
    "start_time": "2023-06-30T11:05:40.820Z"
   },
   {
    "duration": 7,
    "start_time": "2023-06-30T11:05:40.828Z"
   },
   {
    "duration": 16,
    "start_time": "2023-06-30T11:05:40.837Z"
   },
   {
    "duration": 4,
    "start_time": "2023-06-30T11:05:40.855Z"
   },
   {
    "duration": 7,
    "start_time": "2023-06-30T11:05:40.861Z"
   },
   {
    "duration": 6,
    "start_time": "2023-06-30T11:05:40.870Z"
   },
   {
    "duration": 183,
    "start_time": "2023-06-30T11:05:40.877Z"
   },
   {
    "duration": 10,
    "start_time": "2023-06-30T11:05:41.062Z"
   },
   {
    "duration": 12,
    "start_time": "2023-06-30T11:05:41.074Z"
   },
   {
    "duration": 13,
    "start_time": "2023-06-30T11:05:41.088Z"
   },
   {
    "duration": 127,
    "start_time": "2023-06-30T11:05:41.103Z"
   },
   {
    "duration": 27,
    "start_time": "2023-06-30T11:05:41.231Z"
   },
   {
    "duration": 335,
    "start_time": "2023-06-30T11:05:41.259Z"
   },
   {
    "duration": 221,
    "start_time": "2023-06-30T11:05:41.595Z"
   },
   {
    "duration": 412,
    "start_time": "2023-06-30T11:05:41.818Z"
   },
   {
    "duration": 273,
    "start_time": "2023-06-30T11:05:42.232Z"
   },
   {
    "duration": 16,
    "start_time": "2023-06-30T11:05:42.507Z"
   },
   {
    "duration": 346,
    "start_time": "2023-06-30T11:05:42.527Z"
   },
   {
    "duration": 6,
    "start_time": "2023-06-30T11:05:42.875Z"
   },
   {
    "duration": 127,
    "start_time": "2023-06-30T11:05:42.883Z"
   },
   {
    "duration": 5,
    "start_time": "2023-06-30T11:05:43.012Z"
   },
   {
    "duration": 143,
    "start_time": "2023-06-30T11:05:43.018Z"
   },
   {
    "duration": 5,
    "start_time": "2023-06-30T11:05:43.163Z"
   },
   {
    "duration": 150,
    "start_time": "2023-06-30T11:05:43.170Z"
   },
   {
    "duration": 18,
    "start_time": "2023-06-30T11:05:43.322Z"
   },
   {
    "duration": 394,
    "start_time": "2023-06-30T11:05:43.341Z"
   },
   {
    "duration": 19,
    "start_time": "2023-06-30T11:05:43.737Z"
   },
   {
    "duration": 21,
    "start_time": "2023-06-30T11:05:43.757Z"
   },
   {
    "duration": 20,
    "start_time": "2023-06-30T11:05:43.780Z"
   },
   {
    "duration": 17,
    "start_time": "2023-06-30T11:05:43.802Z"
   },
   {
    "duration": 239,
    "start_time": "2023-06-30T11:05:43.821Z"
   },
   {
    "duration": 8,
    "start_time": "2023-06-30T11:05:44.062Z"
   },
   {
    "duration": 51,
    "start_time": "2023-06-30T11:05:44.072Z"
   },
   {
    "duration": 14,
    "start_time": "2023-06-30T11:05:44.124Z"
   },
   {
    "duration": 112,
    "start_time": "2023-06-30T11:13:20.650Z"
   },
   {
    "duration": 7,
    "start_time": "2023-06-30T11:13:30.364Z"
   },
   {
    "duration": 12,
    "start_time": "2023-06-30T11:14:38.849Z"
   },
   {
    "duration": 4,
    "start_time": "2023-06-30T11:15:27.844Z"
   },
   {
    "duration": 14,
    "start_time": "2023-06-30T11:15:36.638Z"
   },
   {
    "duration": 15,
    "start_time": "2023-06-30T11:16:35.798Z"
   },
   {
    "duration": 7,
    "start_time": "2023-06-30T11:18:07.507Z"
   },
   {
    "duration": 164,
    "start_time": "2023-06-30T11:18:07.915Z"
   },
   {
    "duration": 12,
    "start_time": "2023-06-30T11:18:08.668Z"
   },
   {
    "duration": 1094,
    "start_time": "2023-06-30T11:20:42.722Z"
   },
   {
    "duration": 86,
    "start_time": "2023-06-30T11:20:43.819Z"
   },
   {
    "duration": 13,
    "start_time": "2023-06-30T11:20:43.906Z"
   },
   {
    "duration": 29,
    "start_time": "2023-06-30T11:20:43.921Z"
   },
   {
    "duration": 11,
    "start_time": "2023-06-30T11:20:43.953Z"
   },
   {
    "duration": 37,
    "start_time": "2023-06-30T11:20:43.966Z"
   },
   {
    "duration": 15,
    "start_time": "2023-06-30T11:20:44.004Z"
   },
   {
    "duration": 15,
    "start_time": "2023-06-30T11:20:44.021Z"
   },
   {
    "duration": 43,
    "start_time": "2023-06-30T11:20:44.038Z"
   },
   {
    "duration": 12,
    "start_time": "2023-06-30T11:20:44.083Z"
   },
   {
    "duration": 24,
    "start_time": "2023-06-30T11:20:44.097Z"
   },
   {
    "duration": 17,
    "start_time": "2023-06-30T11:20:44.123Z"
   },
   {
    "duration": 23,
    "start_time": "2023-06-30T11:20:44.142Z"
   },
   {
    "duration": 6,
    "start_time": "2023-06-30T11:20:44.169Z"
   },
   {
    "duration": 159,
    "start_time": "2023-06-30T11:20:44.178Z"
   },
   {
    "duration": 0,
    "start_time": "2023-06-30T11:20:44.339Z"
   },
   {
    "duration": 0,
    "start_time": "2023-06-30T11:20:44.340Z"
   },
   {
    "duration": 0,
    "start_time": "2023-06-30T11:20:44.342Z"
   },
   {
    "duration": 0,
    "start_time": "2023-06-30T11:20:44.343Z"
   },
   {
    "duration": 0,
    "start_time": "2023-06-30T11:20:44.344Z"
   },
   {
    "duration": 0,
    "start_time": "2023-06-30T11:20:44.353Z"
   },
   {
    "duration": 0,
    "start_time": "2023-06-30T11:20:44.355Z"
   },
   {
    "duration": 0,
    "start_time": "2023-06-30T11:20:44.356Z"
   },
   {
    "duration": 0,
    "start_time": "2023-06-30T11:20:44.357Z"
   },
   {
    "duration": 0,
    "start_time": "2023-06-30T11:20:44.359Z"
   },
   {
    "duration": 0,
    "start_time": "2023-06-30T11:20:44.360Z"
   },
   {
    "duration": 0,
    "start_time": "2023-06-30T11:20:44.361Z"
   },
   {
    "duration": 0,
    "start_time": "2023-06-30T11:20:44.362Z"
   },
   {
    "duration": 0,
    "start_time": "2023-06-30T11:20:44.364Z"
   },
   {
    "duration": 0,
    "start_time": "2023-06-30T11:20:44.365Z"
   },
   {
    "duration": 0,
    "start_time": "2023-06-30T11:20:44.366Z"
   },
   {
    "duration": 0,
    "start_time": "2023-06-30T11:20:44.367Z"
   },
   {
    "duration": 0,
    "start_time": "2023-06-30T11:20:44.368Z"
   },
   {
    "duration": 0,
    "start_time": "2023-06-30T11:20:44.369Z"
   },
   {
    "duration": 0,
    "start_time": "2023-06-30T11:20:44.371Z"
   },
   {
    "duration": 0,
    "start_time": "2023-06-30T11:20:44.372Z"
   },
   {
    "duration": 0,
    "start_time": "2023-06-30T11:20:44.373Z"
   },
   {
    "duration": 0,
    "start_time": "2023-06-30T11:20:44.374Z"
   },
   {
    "duration": 0,
    "start_time": "2023-06-30T11:20:44.375Z"
   },
   {
    "duration": 0,
    "start_time": "2023-06-30T11:20:44.376Z"
   },
   {
    "duration": 0,
    "start_time": "2023-06-30T11:20:44.377Z"
   },
   {
    "duration": 0,
    "start_time": "2023-06-30T11:20:44.378Z"
   },
   {
    "duration": 0,
    "start_time": "2023-06-30T11:20:44.379Z"
   },
   {
    "duration": 0,
    "start_time": "2023-06-30T11:20:44.381Z"
   },
   {
    "duration": 0,
    "start_time": "2023-06-30T11:20:44.382Z"
   },
   {
    "duration": 8,
    "start_time": "2023-06-30T11:21:20.314Z"
   },
   {
    "duration": 1019,
    "start_time": "2023-06-30T11:21:40.710Z"
   },
   {
    "duration": 60,
    "start_time": "2023-06-30T11:21:41.731Z"
   },
   {
    "duration": 26,
    "start_time": "2023-06-30T11:21:41.793Z"
   },
   {
    "duration": 19,
    "start_time": "2023-06-30T11:21:41.821Z"
   },
   {
    "duration": 18,
    "start_time": "2023-06-30T11:21:41.843Z"
   },
   {
    "duration": 51,
    "start_time": "2023-06-30T11:21:41.862Z"
   },
   {
    "duration": 12,
    "start_time": "2023-06-30T11:21:41.914Z"
   },
   {
    "duration": 14,
    "start_time": "2023-06-30T11:21:41.928Z"
   },
   {
    "duration": 54,
    "start_time": "2023-06-30T11:21:41.943Z"
   },
   {
    "duration": 11,
    "start_time": "2023-06-30T11:21:41.999Z"
   },
   {
    "duration": 16,
    "start_time": "2023-06-30T11:21:42.012Z"
   },
   {
    "duration": 25,
    "start_time": "2023-06-30T11:21:42.030Z"
   },
   {
    "duration": 35,
    "start_time": "2023-06-30T11:21:42.056Z"
   },
   {
    "duration": 24,
    "start_time": "2023-06-30T11:21:42.094Z"
   },
   {
    "duration": 35,
    "start_time": "2023-06-30T11:21:42.120Z"
   },
   {
    "duration": 30,
    "start_time": "2023-06-30T11:21:42.157Z"
   },
   {
    "duration": 20,
    "start_time": "2023-06-30T11:21:42.189Z"
   },
   {
    "duration": 193,
    "start_time": "2023-06-30T11:21:42.211Z"
   },
   {
    "duration": 17,
    "start_time": "2023-06-30T11:21:42.406Z"
   },
   {
    "duration": 34,
    "start_time": "2023-06-30T11:21:42.425Z"
   },
   {
    "duration": 32,
    "start_time": "2023-06-30T11:21:42.460Z"
   },
   {
    "duration": 177,
    "start_time": "2023-06-30T11:21:42.494Z"
   },
   {
    "duration": 22,
    "start_time": "2023-06-30T11:21:42.674Z"
   },
   {
    "duration": 317,
    "start_time": "2023-06-30T11:21:42.697Z"
   },
   {
    "duration": 241,
    "start_time": "2023-06-30T11:21:43.015Z"
   },
   {
    "duration": 320,
    "start_time": "2023-06-30T11:21:43.257Z"
   },
   {
    "duration": 245,
    "start_time": "2023-06-30T11:21:43.579Z"
   },
   {
    "duration": 13,
    "start_time": "2023-06-30T11:21:43.826Z"
   },
   {
    "duration": 330,
    "start_time": "2023-06-30T11:21:43.854Z"
   },
   {
    "duration": 7,
    "start_time": "2023-06-30T11:21:44.186Z"
   },
   {
    "duration": 173,
    "start_time": "2023-06-30T11:21:44.195Z"
   },
   {
    "duration": 5,
    "start_time": "2023-06-30T11:21:44.370Z"
   },
   {
    "duration": 152,
    "start_time": "2023-06-30T11:21:44.377Z"
   },
   {
    "duration": 5,
    "start_time": "2023-06-30T11:21:44.531Z"
   },
   {
    "duration": 173,
    "start_time": "2023-06-30T11:21:44.538Z"
   },
   {
    "duration": 20,
    "start_time": "2023-06-30T11:21:44.713Z"
   },
   {
    "duration": 425,
    "start_time": "2023-06-30T11:21:44.735Z"
   },
   {
    "duration": 12,
    "start_time": "2023-06-30T11:21:45.163Z"
   },
   {
    "duration": 8,
    "start_time": "2023-06-30T11:21:45.177Z"
   },
   {
    "duration": 16,
    "start_time": "2023-06-30T11:21:45.187Z"
   },
   {
    "duration": 8,
    "start_time": "2023-06-30T11:21:45.206Z"
   },
   {
    "duration": 221,
    "start_time": "2023-06-30T11:21:45.216Z"
   },
   {
    "duration": 15,
    "start_time": "2023-06-30T11:21:45.439Z"
   },
   {
    "duration": 37,
    "start_time": "2023-06-30T11:21:45.456Z"
   },
   {
    "duration": 12,
    "start_time": "2023-06-30T11:21:45.495Z"
   }
  ],
  "kernelspec": {
   "display_name": "Python 3 (ipykernel)",
   "language": "python",
   "name": "python3"
  },
  "language_info": {
   "codemirror_mode": {
    "name": "ipython",
    "version": 3
   },
   "file_extension": ".py",
   "mimetype": "text/x-python",
   "name": "python",
   "nbconvert_exporter": "python",
   "pygments_lexer": "ipython3",
   "version": "3.9.13"
  },
  "toc": {
   "base_numbering": 1,
   "nav_menu": {},
   "number_sections": true,
   "sideBar": true,
   "skip_h1_title": true,
   "title_cell": "Table of Contents",
   "title_sidebar": "Contents",
   "toc_cell": false,
   "toc_position": {},
   "toc_section_display": true,
   "toc_window_display": false
  }
 },
 "nbformat": 4,
 "nbformat_minor": 2
}
